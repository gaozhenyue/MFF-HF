{
 "cells": [
  {
   "cell_type": "code",
   "execution_count": 1,
   "metadata": {},
   "outputs": [],
   "source": [
    "import pandas as pd\n",
    "import torch#深度学习的pytoch平台\n",
    "import torch.nn as nn\n",
    "import numpy as np\n",
    "import random\n",
    "import time#可以用来简单地记录时间\n",
    "import matplotlib.pyplot as plt#画图\n",
    "from sklearn.metrics import roc_auc_score, precision_recall_curve, roc_curve, auc\n",
    "import os\n",
    "\n",
    "from torch import Tensor\n",
    "from torch import nn, optim\n",
    "from torch.utils.data import TensorDataset, DataLoader, RandomSampler, SequentialSampler"
   ]
  },
  {
   "cell_type": "code",
   "execution_count": 2,
   "metadata": {},
   "outputs": [],
   "source": [
    "from models.dual_adaptation_gate import DAG_Tabular, TabTransformer, mm_tab\n",
    "from models.train_and_test_step import train_model, test_model, evaluate_model, plot_result"
   ]
  },
  {
   "cell_type": "code",
   "execution_count": 3,
   "metadata": {},
   "outputs": [],
   "source": [
    "from pyDeepInsight import ImageTransformer\n",
    "from pyDeepInsight.utils import Norm2Scaler\n",
    "from sklearn.model_selection import train_test_split\n",
    "from sklearn.preprocessing import LabelEncoder\n",
    "from sklearn.manifold import TSNE\n",
    "\n",
    "import torchvision\n",
    "import torchvision.transforms as transforms"
   ]
  },
  {
   "cell_type": "markdown",
   "metadata": {},
   "source": [
    "# 加载数据"
   ]
  },
  {
   "cell_type": "code",
   "execution_count": 4,
   "metadata": {},
   "outputs": [],
   "source": [
    "file_path = '../datasets/mimic/'\n",
    "df_train = pd.read_csv(file_path + 'train.csv')\n",
    "df_test = pd.read_csv(file_path + 'test.csv')\n",
    "df_val = pd.read_csv(file_path + 'val.csv')"
   ]
  },
  {
   "cell_type": "markdown",
   "metadata": {},
   "source": [
    "# Check device"
   ]
  },
  {
   "cell_type": "code",
   "execution_count": 5,
   "metadata": {},
   "outputs": [
    {
     "name": "stdout",
     "output_type": "stream",
     "text": [
      "There are %d GPU(s) available. 1\n",
      "We will use the GPU: NVIDIA GeForce GTX 1080 Ti\n"
     ]
    }
   ],
   "source": [
    "# Check device \n",
    "# Get the GPU device name if available.\n",
    "if torch.cuda.is_available():    \n",
    "    # Tell PyTorch to use the GPU.    \n",
    "    device = torch.device(\"cuda\")\n",
    "    print('There are %d GPU(s) available. {}'.format(torch.cuda.device_count()))\n",
    "    print('We will use the GPU: {}'.format(torch.cuda.get_device_name(0)))\n",
    "\n",
    "# If we dont have GPU but a CPU, training will take place on CPU instead\n",
    "else:\n",
    "    print('No GPU available, using the CPU instead.')\n",
    "    device = torch.device(\"cpu\")\n",
    "    \n",
    "torch.cuda.empty_cache()\n",
    "    \n",
    "# Set the seed value all over the place to make this reproducible.\n",
    "seed_val = 43\n",
    "\n",
    "random.seed(seed_val)\n",
    "np.random.seed(seed_val)\n",
    "torch.manual_seed(seed_val)\n",
    "torch.cuda.manual_seed(seed_val)\n",
    "torch.cuda.manual_seed_all(seed_val)\n",
    "os.environ['PYTHONHASHSEED'] = str(seed_val)\n",
    "\n",
    "torch.backends.cudnn.benchmark = False\n",
    "torch.backends.cudnn.deterministic = True"
   ]
  },
  {
   "cell_type": "markdown",
   "metadata": {},
   "source": [
    "# Define hybrid parameters"
   ]
  },
  {
   "cell_type": "code",
   "execution_count": 6,
   "metadata": {},
   "outputs": [],
   "source": [
    "batch_size = 64\n",
    "epochs = 20\n",
    "learning_rate = 1e-3 # Controls how large a step is taken when updating model weights during training.\n",
    "steps_per_epoch = int(len(df_train) / batch_size / 1 * epochs)\n",
    "num_workers = 0"
   ]
  },
  {
   "cell_type": "markdown",
   "metadata": {},
   "source": [
    "# Load data"
   ]
  },
  {
   "cell_type": "code",
   "execution_count": 7,
   "metadata": {},
   "outputs": [],
   "source": [
    "cat_cols = [\"admission_type\", 'gender', 'ethnicity', # 'marital_status', \"insurance\", \"language\",\n",
    "            \"electivesurgery\", \"vent\",\n",
    "#             'vasopressor', 'milrinone', 'furosemide',  # 升压药、强心剂、利尿剂\n",
    "            'activity','fall_risk',\n",
    "#             'braden_nutrition', 'braden_mobility', 'braden_activity',\n",
    "#             'lll_lung_sounds','lul_lung_sounds','rll_lung_sounds', 'rul_lung_sounds'\n",
    "           ]\n",
    "\n",
    "numerical_cols = [\"pre_icu_los_day\",'age','weight', #'spo2_fio2_ratio',\n",
    "                  'bmi', 'creatinine_max', 'bilirubin_max',\n",
    "                  'platelet_min', 'bun_max', 'wbc_max', 'glucose_max',\n",
    "                  'hematocrit_max', 'potassium_max', 'sodium_max', 'bicarbonate_min', 'bicarbonate_max',\n",
    "                  'pao2fio2ratio_vent', 'albumin_min', 'alt_max', 'ast_max', 'alp_max', 'pt_max',\n",
    "                  'ptt_max', 'inr_min', 'hemoglobin_min', 'chloride_min', 'pao2_min', 'paco2_max', 'lactate_max',\n",
    "                  'baseexcess_min', 'fio2_max', 'troponin_max', 'lymphocytes_max', 'lymphocytes_min', 'neutrophils_min',\n",
    "                  'magnesium_max','aniongap_max', 'gcs_min',\n",
    "                  'urineoutput', 'spo2_min', 'heart_rate_mean', 'mbp_mean',\n",
    "                  'sbp_mean', 'resp_rate_mean', 'temperature_mean',\n",
    "                  'cci_score',\n",
    "                ]\n",
    "\n",
    "tabular_cols = cat_cols + numerical_cols"
   ]
  },
  {
   "cell_type": "code",
   "execution_count": 8,
   "metadata": {},
   "outputs": [],
   "source": [
    "X_train = df_train.loc[:, tabular_cols]\n",
    "X_val = df_val.loc[:, tabular_cols]\n",
    "X_test = df_test.loc[:, tabular_cols]\n",
    "\n",
    "y_train = df_train['death_hosp']\n",
    "y_val = df_val['death_hosp']\n",
    "y_test = df_test['death_hosp']"
   ]
  },
  {
   "cell_type": "markdown",
   "metadata": {},
   "source": [
    "# Tabular to Image"
   ]
  },
  {
   "cell_type": "code",
   "execution_count": 9,
   "metadata": {},
   "outputs": [
    {
     "name": "stderr",
     "output_type": "stream",
     "text": [
      "E:\\Program_Files\\Anaconda\\lib\\site-packages\\sklearn\\manifold\\_t_sne.py:827: FutureWarning: 'square_distances' has been introduced in 0.24 to help phase out legacy squaring behavior. The 'legacy' setting will be removed in 1.1 (renaming of 0.26), and the default setting will be changed to True. In 1.3, 'square_distances' will be removed altogether, and distances will be squared by default. Set 'square_distances'=True to silence this warning.\n",
      "  FutureWarning,\n"
     ]
    },
    {
     "data": {
      "image/png": "[encoded data removed]",
      "text/plain": [
       "<Figure size 864x288 with 3 Axes>"
      ]
     },
     "metadata": {
      "needs_background": "light"
     },
     "output_type": "display_data"
    }
   ],
   "source": [
    "# Normalize data using LogScaler\n",
    "ln = Norm2Scaler()\n",
    "X_train_norm = ln.fit_transform(X_train)\n",
    "X_val_norm = ln.transform(X_val)\n",
    "X_test_norm = ln.transform(X_test)\n",
    "\n",
    "# Create t-SNE object\n",
    "distance_metric = 'cosine'\n",
    "reducer = TSNE(\n",
    "    n_components=2,\n",
    "    metric=distance_metric,\n",
    "    init='random',\n",
    "    learning_rate='auto',\n",
    "    n_jobs=-1,\n",
    "    random_state=seed_val\n",
    ")\n",
    "\n",
    "# Initialize image transformer\n",
    "pixel_size = ( 8, 8)\n",
    "it = ImageTransformer(\n",
    "    feature_extractor=reducer, \n",
    "#     feature_extractor='pca',\n",
    "    pixels=pixel_size)\n",
    "\n",
    "it.fit(X_train, y=y_train, plot=True)\n",
    "X_train_img = it.transform(X_train_norm)\n",
    "X_val_img = it.transform(X_val_norm)\n",
    "X_test_img = it.transform(X_test_norm)"
   ]
  },
  {
   "cell_type": "code",
   "execution_count": 10,
   "metadata": {},
   "outputs": [],
   "source": [
    "preprocess = transforms.Compose([\n",
    "    transforms.ToTensor()\n",
    "])"
   ]
  },
  {
   "cell_type": "code",
   "execution_count": 11,
   "metadata": {},
   "outputs": [],
   "source": [
    "train_img = torch.stack([preprocess(img) for img in X_train_img]).float()\n",
    "val_img = torch.stack([preprocess(img) for img in X_val_img]).float()\n",
    "test_img = torch.stack([preprocess(img) for img in X_test_img]).float()"
   ]
  },
  {
   "cell_type": "markdown",
   "metadata": {},
   "source": [
    "# Make dataset"
   ]
  },
  {
   "cell_type": "code",
   "execution_count": 12,
   "metadata": {},
   "outputs": [],
   "source": [
    "def loadData(prep_df, batch_size, num_workers, sampler):\n",
    "    \n",
    "    return  DataLoader(\n",
    "            prep_df,\n",
    "            batch_size=batch_size,\n",
    "            num_workers=num_workers,\n",
    "            sampler=sampler,\n",
    "            pin_memory=True\n",
    "        )\n",
    "\n",
    "train_cat = torch.tensor(np.array(df_train.loc[:, cat_cols],dtype=np.int32))\n",
    "train_num = torch.tensor(np.array(df_train.loc[:, numerical_cols],dtype=np.float32))\n",
    "train_y = torch.tensor(df_train.death_hosp.astype(int).tolist())\n",
    "\n",
    "val_cat = torch.tensor(np.array(df_val.loc[:, cat_cols],dtype=np.int32))\n",
    "val_num = torch.tensor(np.array(df_val.loc[:, numerical_cols],dtype=np.float32))\n",
    "val_y = torch.tensor(df_val.death_hosp.astype(int).tolist())\n",
    "\n",
    "test_cat = torch.tensor(np.array(df_test.loc[:, cat_cols],dtype=np.int32))\n",
    "test_num = torch.tensor(np.array(df_test.loc[:, numerical_cols],dtype=np.float32))\n",
    "test_y = torch.tensor(df_test.death_hosp.astype(int).tolist())"
   ]
  },
  {
   "cell_type": "code",
   "execution_count": 13,
   "metadata": {},
   "outputs": [],
   "source": [
    "# wrap tensors\n",
    "train_data = TensorDataset(train_cat, train_num, train_img, train_y)\n",
    "# sampler for sampling the data during training\n",
    "train_sampler = RandomSampler(train_data)\n",
    "# Train Data Loader\n",
    "traindata = loadData(train_data, batch_size, num_workers, train_sampler)\n",
    "\n",
    "# wrap tensors\n",
    "val_data = TensorDataset(val_cat, val_num, val_img, val_y)\n",
    "# sampler for sampling the data during training\n",
    "val_sampler = SequentialSampler(val_data)\n",
    "# Val Data Loader\n",
    "valdata = loadData(val_data, batch_size, num_workers, val_sampler)\n",
    "\n",
    "# wrap tensors\n",
    "test_data = TensorDataset(test_cat, test_num, test_img, test_y)\n",
    "# sampler for sampling the data during training\n",
    "test_sampler = SequentialSampler(test_data)\n",
    "# Val Data Loader\n",
    "testdata = loadData(test_data, batch_size, num_workers, test_sampler)"
   ]
  },
  {
   "cell_type": "code",
   "execution_count": 14,
   "metadata": {},
   "outputs": [
    {
     "name": "stdout",
     "output_type": "stream",
     "text": [
      "Number of data in the train set 141\n",
      "Number of data in the validation set 18\n",
      "Number of data in the test set 18\n"
     ]
    }
   ],
   "source": [
    "print('Number of data in the train set', len(traindata))\n",
    "print('Number of data in the validation set', len(valdata))\n",
    "print('Number of data in the test set', len(testdata))"
   ]
  },
  {
   "cell_type": "markdown",
   "metadata": {},
   "source": [
    "# Load model"
   ]
  },
  {
   "cell_type": "code",
   "execution_count": 15,
   "metadata": {},
   "outputs": [
    {
     "name": "stderr",
     "output_type": "stream",
     "text": [
      "E:\\Program_Files\\Anaconda\\lib\\site-packages\\torchvision\\models\\_utils.py:209: UserWarning: The parameter 'pretrained' is deprecated since 0.13 and may be removed in the future, please use 'weights' instead.\n",
      "  f\"The parameter '{pretrained_param}' is deprecated since 0.13 and may be removed in the future, \"\n",
      "E:\\Program_Files\\Anaconda\\lib\\site-packages\\torchvision\\models\\_utils.py:223: UserWarning: Arguments other than a weight enum or `None` for 'weights' are deprecated since 0.13 and may be removed in the future. The current behavior is equivalent to passing `weights=ResNet18_Weights.IMAGENET1K_V1`. You can also use `weights=ResNet18_Weights.DEFAULT` to get the most up-to-date weights.\n",
      "  warnings.warn(msg)\n"
     ]
    }
   ],
   "source": [
    "model = mm_tab(categories = (2,2,2,2,2,2,2),      # tuple containing the number of unique values within each category\n",
    "                        num_continuous = 45,                # number of continuous values\n",
    "                        dim = 16,                           # dimension, paper set at 32\n",
    "                        dim_out = 1,                        # binary prediction, but could be anything\n",
    "                        depth = 1,                          # depth, paper recommended 6\n",
    "                        heads = 1,                          # heads, paper recommends 8\n",
    "                        attn_dropout = 0.1,                 # post-attention dropout\n",
    "                        ff_dropout = 0.1,                   # feed forward dropout\n",
    "                        mlp_hidden_mults = (4, 2),          # relative multiples of each hidden dimension of the last mlp to logits\n",
    "                      )\n",
    "model.to(device) # Model to GPU.\n",
    "\n",
    "optimizer = torch.optim.Adam(model.parameters(), lr=learning_rate)"
   ]
  },
  {
   "cell_type": "code",
   "execution_count": 16,
   "metadata": {},
   "outputs": [],
   "source": [
    "def training_model(model, traindata, bceloss, optimizer, epochs=12):\n",
    "    # for each epoch perform training and evaluation\n",
    "    for epoch in range(epochs):\n",
    "        #train model\n",
    "        train_loss, _ = train_model(model, traindata, bceloss, optimizer)\n",
    "        \n",
    "def evaluate_models_with_auc(model, test_data, df_data):\n",
    "    preds = test_model(model, test_data)\n",
    "    \n",
    "    fpr, tpr, thresholds = roc_curve(df_data['death_hosp'], preds[0])\n",
    "    auc_score = auc(fpr, tpr)\n",
    "    return auc_score"
   ]
  },
  {
   "cell_type": "code",
   "execution_count": 17,
   "metadata": {},
   "outputs": [],
   "source": [
    "bceloss  = nn.BCELoss()"
   ]
  },
  {
   "cell_type": "code",
   "execution_count": 18,
   "metadata": {
    "scrolled": true
   },
   "outputs": [
    {
     "name": "stdout",
     "output_type": "stream",
     "text": [
      "\n",
      " Epoch 1 / 20\n",
      "Training...\n",
      "  Batch    50  of    141. loss 0.2786973714828491\n",
      "  Batch   100  of    141. loss 0.311071515083313\n",
      "\n",
      "Evaluating...\n",
      "Evaluation done for epoch 1\n",
      "\n",
      "Training Loss: 0.378\n",
      "Validation Loss: 0.339\n",
      "\n",
      " Epoch 2 / 20\n",
      "Training...\n",
      "  Batch    50  of    141. loss 0.5248568058013916\n",
      "  Batch   100  of    141. loss 0.21264711022377014\n",
      "\n",
      "Evaluating...\n",
      "Evaluation done for epoch 2\n",
      "\n",
      "Training Loss: 0.331\n",
      "Validation Loss: 0.334\n",
      "\n",
      " Epoch 3 / 20\n",
      "Training...\n",
      "  Batch    50  of    141. loss 0.20936666429042816\n",
      "  Batch   100  of    141. loss 0.28823116421699524\n",
      "\n",
      "Evaluating...\n",
      "Evaluation done for epoch 3\n",
      "\n",
      "Training Loss: 0.321\n",
      "Validation Loss: 0.344\n",
      "\n",
      " Epoch 4 / 20\n",
      "Training...\n",
      "  Batch    50  of    141. loss 0.24427849054336548\n",
      "  Batch   100  of    141. loss 0.42063507437705994\n",
      "\n",
      "Evaluating...\n",
      "Evaluation done for epoch 4\n",
      "\n",
      "Training Loss: 0.326\n",
      "Validation Loss: 0.355\n",
      "\n",
      " Epoch 5 / 20\n",
      "Training...\n",
      "  Batch    50  of    141. loss 0.4099435806274414\n",
      "  Batch   100  of    141. loss 0.21299132704734802\n",
      "\n",
      "Evaluating...\n",
      "Evaluation done for epoch 5\n",
      "\n",
      "Training Loss: 0.322\n",
      "Validation Loss: 0.342\n",
      "\n",
      " Epoch 6 / 20\n",
      "Training...\n",
      "  Batch    50  of    141. loss 0.2855786979198456\n",
      "  Batch   100  of    141. loss 0.39025646448135376\n",
      "\n",
      "Evaluating...\n",
      "Evaluation done for epoch 6\n",
      "\n",
      "Training Loss: 0.317\n",
      "Validation Loss: 0.338\n",
      "\n",
      " Epoch 7 / 20\n",
      "Training...\n",
      "  Batch    50  of    141. loss 0.23584523797035217\n",
      "  Batch   100  of    141. loss 0.3231479525566101\n",
      "\n",
      "Evaluating...\n",
      "Evaluation done for epoch 7\n",
      "\n",
      "Training Loss: 0.317\n",
      "Validation Loss: 0.328\n",
      "\n",
      " Epoch 8 / 20\n",
      "Training...\n",
      "  Batch    50  of    141. loss 0.3464677333831787\n",
      "  Batch   100  of    141. loss 0.3356805145740509\n",
      "\n",
      "Evaluating...\n",
      "Evaluation done for epoch 8\n",
      "\n",
      "Training Loss: 0.311\n",
      "Validation Loss: 0.337\n",
      "\n",
      " Epoch 9 / 20\n",
      "Training...\n",
      "  Batch    50  of    141. loss 0.37461066246032715\n",
      "  Batch   100  of    141. loss 0.3305794596672058\n",
      "\n",
      "Evaluating...\n",
      "Evaluation done for epoch 9\n",
      "\n",
      "Training Loss: 0.309\n",
      "Validation Loss: 0.420\n",
      "\n",
      " Epoch 10 / 20\n",
      "Training...\n",
      "  Batch    50  of    141. loss 0.20312067866325378\n",
      "  Batch   100  of    141. loss 0.20205023884773254\n",
      "\n",
      "Evaluating...\n",
      "Evaluation done for epoch 10\n",
      "\n",
      "Training Loss: 0.312\n",
      "Validation Loss: 0.336\n",
      "\n",
      " Epoch 11 / 20\n",
      "Training...\n",
      "  Batch    50  of    141. loss 0.22798222303390503\n",
      "  Batch   100  of    141. loss 0.3171543478965759\n",
      "\n",
      "Evaluating...\n",
      "Evaluation done for epoch 11\n",
      "\n",
      "Training Loss: 0.323\n",
      "Validation Loss: 0.344\n",
      "\n",
      " Epoch 12 / 20\n",
      "Training...\n",
      "  Batch    50  of    141. loss 0.38010144233703613\n",
      "  Batch   100  of    141. loss 0.49704885482788086\n",
      "\n",
      "Evaluating...\n",
      "Evaluation done for epoch 12\n",
      "\n",
      "Training Loss: 0.306\n",
      "Validation Loss: 0.359\n",
      "\n",
      " Epoch 13 / 20\n",
      "Training...\n",
      "  Batch    50  of    141. loss 0.34117212891578674\n",
      "  Batch   100  of    141. loss 0.16325931251049042\n",
      "\n",
      "Evaluating...\n",
      "Evaluation done for epoch 13\n",
      "\n",
      "Training Loss: 0.302\n",
      "Validation Loss: 0.342\n",
      "\n",
      " Epoch 14 / 20\n",
      "Training...\n",
      "  Batch    50  of    141. loss 0.2794783115386963\n",
      "  Batch   100  of    141. loss 0.30650320649147034\n",
      "\n",
      "Evaluating...\n",
      "Evaluation done for epoch 14\n",
      "\n",
      "Training Loss: 0.296\n",
      "Validation Loss: 0.326\n",
      "\n",
      " Epoch 15 / 20\n",
      "Training...\n",
      "  Batch    50  of    141. loss 0.38671740889549255\n",
      "  Batch   100  of    141. loss 0.2910597622394562\n",
      "\n",
      "Evaluating...\n",
      "Evaluation done for epoch 15\n",
      "\n",
      "Training Loss: 0.318\n",
      "Validation Loss: 0.339\n",
      "\n",
      " Epoch 16 / 20\n",
      "Training...\n",
      "  Batch    50  of    141. loss 0.2773253321647644\n",
      "  Batch   100  of    141. loss 0.18388041853904724\n",
      "\n",
      "Evaluating...\n",
      "Evaluation done for epoch 16\n",
      "\n",
      "Training Loss: 0.302\n",
      "Validation Loss: 0.332\n",
      "\n",
      " Epoch 17 / 20\n",
      "Training...\n",
      "  Batch    50  of    141. loss 0.3597638010978699\n",
      "  Batch   100  of    141. loss 0.4542873501777649\n",
      "\n",
      "Evaluating...\n",
      "Evaluation done for epoch 17\n",
      "\n",
      "Training Loss: 0.310\n",
      "Validation Loss: 0.339\n",
      "\n",
      " Epoch 18 / 20\n",
      "Training...\n",
      "  Batch    50  of    141. loss 0.26046425104141235\n",
      "  Batch   100  of    141. loss 0.27385151386260986\n",
      "\n",
      "Evaluating...\n",
      "Evaluation done for epoch 18\n",
      "\n",
      "Training Loss: 0.315\n",
      "Validation Loss: 0.344\n",
      "\n",
      " Epoch 19 / 20\n",
      "Training...\n",
      "  Batch    50  of    141. loss 0.3054565191268921\n",
      "  Batch   100  of    141. loss 0.1698969602584839\n",
      "\n",
      "Evaluating...\n",
      "Evaluation done for epoch 19\n",
      "\n",
      "Training Loss: 0.296\n",
      "Validation Loss: 0.347\n",
      "\n",
      " Epoch 20 / 20\n",
      "Training...\n",
      "  Batch    50  of    141. loss 0.19822697341442108\n",
      "  Batch   100  of    141. loss 0.26415157318115234\n",
      "\n",
      "Evaluating...\n",
      "Evaluation done for epoch 20\n",
      "\n",
      "Training Loss: 0.302\n",
      "Validation Loss: 0.338\n"
     ]
    }
   ],
   "source": [
    "# set initial loss to infinite\n",
    "best_valid_loss = float('inf')\n",
    "\n",
    "# Empty lists to store training and validation loss of each epoch\n",
    "train_losses=[]\n",
    "valid_losses=[]\n",
    "\n",
    "# for each epoch perform training and evaluation\n",
    "for epoch in range(epochs):\n",
    "     \n",
    "    print('\\n Epoch {:} / {:}'.format(epoch + 1, epochs))\n",
    "    \n",
    "    #train model\n",
    "    train_loss, _ = train_model(model, traindata, bceloss, optimizer)\n",
    "    \n",
    "    #evaluate model\n",
    "    valid_loss, _ = evaluate_model(model, valdata, bceloss)\n",
    "    \n",
    "    print('Evaluation done for epoch {}'.format(epoch + 1))\n",
    "    \n",
    "    # append training and validation loss\n",
    "    train_losses.append(train_loss)\n",
    "    valid_losses.append(valid_loss)\n",
    "    \n",
    "    print(f'\\nTraining Loss: {train_loss:.3f}')\n",
    "    print(f'Validation Loss: {valid_loss:.3f}')"
   ]
  },
  {
   "cell_type": "code",
   "execution_count": 19,
   "metadata": {},
   "outputs": [
    {
     "name": "stdout",
     "output_type": "stream",
     "text": [
      "\n",
      "Test Set...\n",
      "Total batches: 18\n",
      "Batch 18\n",
      "Prediction complete.\n"
     ]
    }
   ],
   "source": [
    "preds = test_model(model, testdata)"
   ]
  },
  {
   "cell_type": "code",
   "execution_count": 20,
   "metadata": {},
   "outputs": [
    {
     "data": {
      "image/png": "[encoded data removed]",
      "text/plain": [
       "<Figure size 432x288 with 1 Axes>"
      ]
     },
     "metadata": {
      "needs_background": "light"
     },
     "output_type": "display_data"
    }
   ],
   "source": [
    "plot_result(df_test['death_hosp'], preds[0])"
   ]
  },
  {
   "cell_type": "markdown",
   "metadata": {},
   "source": [
    "# 外部验证"
   ]
  },
  {
   "cell_type": "code",
   "execution_count": 21,
   "metadata": {},
   "outputs": [],
   "source": [
    "df_external = pd.read_csv(file_path + 'external.csv')\n",
    "df_temporal = pd.read_csv(file_path + 'mimiciv_temporal_data_preprocess.csv')"
   ]
  },
  {
   "cell_type": "code",
   "execution_count": 22,
   "metadata": {},
   "outputs": [],
   "source": [
    "X_external = df_external.loc[:, tabular_cols]\n",
    "X_temporal = df_temporal.loc[:, tabular_cols]\n",
    "\n",
    "y_external = df_external['death_hosp']\n",
    "y_temporal = df_temporal['death_hosp']"
   ]
  },
  {
   "cell_type": "code",
   "execution_count": 23,
   "metadata": {},
   "outputs": [],
   "source": [
    "X_external_norm = ln.fit_transform(X_external)\n",
    "X_temporal_norm = ln.transform(X_temporal)\n",
    "\n",
    "X_external_img = it.transform(X_external_norm)\n",
    "X_temporal_img = it.transform(X_temporal_norm)"
   ]
  },
  {
   "cell_type": "code",
   "execution_count": 24,
   "metadata": {},
   "outputs": [],
   "source": [
    "external_img = torch.stack([preprocess(img) for img in X_external_img]).float()\n",
    "temporal_img = torch.stack([preprocess(img) for img in X_temporal_img]).float()"
   ]
  },
  {
   "cell_type": "code",
   "execution_count": 25,
   "metadata": {},
   "outputs": [
    {
     "name": "stdout",
     "output_type": "stream",
     "text": [
      "Number of data in the external set 80\n",
      "Number of data in the temporal set 30\n"
     ]
    }
   ],
   "source": [
    "external_cat = torch.tensor(np.array(df_external.loc[:, cat_cols],dtype=np.int32))\n",
    "external_num = torch.tensor(np.array(df_external.loc[:, numerical_cols],dtype=np.float32))\n",
    "external_y = torch.tensor(df_external.death_hosp.astype(int).tolist())\n",
    "\n",
    "\n",
    "temporal_cat = torch.tensor(np.array(df_temporal.loc[:, cat_cols],dtype=np.int32))\n",
    "temporal_num = torch.tensor(np.array(df_temporal.loc[:, numerical_cols],dtype=np.float32))\n",
    "temporal_y = torch.tensor(df_temporal.death_hosp.astype(int).tolist())\n",
    "\n",
    "# wrap tensors\n",
    "external_data = TensorDataset(external_cat, external_num, external_img, external_y)\n",
    "# sampler for sampling the data during training\n",
    "external_sampler = SequentialSampler(external_data)\n",
    "# Val Data Loader\n",
    "externaldata = loadData(external_data, batch_size, num_workers, external_sampler)\n",
    "\n",
    "# wrap tensors\n",
    "temporal_data = TensorDataset(temporal_cat, temporal_num, temporal_img, temporal_y)\n",
    "# sampler for sampling the data during training\n",
    "temporal_sampler = SequentialSampler(temporal_data)\n",
    "# Val Data Loader\n",
    "temporaldata = loadData(temporal_data, batch_size, num_workers, temporal_sampler)\n",
    "\n",
    "print('Number of data in the external set', len(externaldata))\n",
    "print('Number of data in the temporal set', len(temporaldata))"
   ]
  },
  {
   "cell_type": "code",
   "execution_count": 26,
   "metadata": {},
   "outputs": [
    {
     "name": "stdout",
     "output_type": "stream",
     "text": [
      "\n",
      "Test Set...\n",
      "Total batches: 30\n",
      "Batch 30\n",
      "Prediction complete.\n"
     ]
    }
   ],
   "source": [
    "temporalpreds = test_model(model, temporaldata)"
   ]
  },
  {
   "cell_type": "code",
   "execution_count": 27,
   "metadata": {},
   "outputs": [],
   "source": [
    "temporal_results = {'preds':temporalpreds[0].reshape(-1),\n",
    "                   'death_hosp':np.array(df_temporal['death_hosp'])}\n",
    "\n",
    "df_temporal_results = pd.DataFrame(temporal_results).dropna()"
   ]
  },
  {
   "cell_type": "code",
   "execution_count": 28,
   "metadata": {},
   "outputs": [
    {
     "data": {
      "image/png": "[encoded data removed]",
      "text/plain": [
       "<Figure size 432x288 with 1 Axes>"
      ]
     },
     "metadata": {
      "needs_background": "light"
     },
     "output_type": "display_data"
    }
   ],
   "source": [
    "plot_result(df_temporal_results['death_hosp'], df_temporal_results['preds'])"
   ]
  },
  {
   "cell_type": "code",
   "execution_count": 29,
   "metadata": {},
   "outputs": [
    {
     "name": "stdout",
     "output_type": "stream",
     "text": [
      "\n",
      "Test Set...\n",
      "Total batches: 80\n",
      "Batch 80\n",
      "Prediction complete.\n"
     ]
    },
    {
     "data": {
      "image/png": "[encoded data removed]",
      "text/plain": [
       "<Figure size 432x288 with 1 Axes>"
      ]
     },
     "metadata": {
      "needs_background": "light"
     },
     "output_type": "display_data"
    }
   ],
   "source": [
    "externalpreds = test_model(model, externaldata)\n",
    "plot_result(df_external['death_hosp'], externalpreds[0])"
   ]
  },
  {
   "cell_type": "markdown",
   "metadata": {},
   "source": [
    "# Eval the model"
   ]
  },
  {
   "cell_type": "markdown",
   "metadata": {},
   "source": [
    "# 临床评分"
   ]
  },
  {
   "cell_type": "code",
   "execution_count": 30,
   "metadata": {},
   "outputs": [],
   "source": [
    "df_mimiciii_all = pd.read_csv(file_path + 'two_days_data_preprocess.csv')\n",
    "df_train_copd = df_mimiciii_all[df_mimiciii_all.hadm_id.isin(df_train.hadm_id)]\n",
    "df_test_copd = df_mimiciii_all[df_mimiciii_all.hadm_id.isin(df_test.hadm_id)]\n",
    "df_val_copd = df_mimiciii_all[df_mimiciii_all.hadm_id.isin(df_val.hadm_id)]"
   ]
  },
  {
   "cell_type": "markdown",
   "metadata": {},
   "source": [
    "# SOFA"
   ]
  },
  {
   "cell_type": "code",
   "execution_count": 31,
   "metadata": {},
   "outputs": [],
   "source": [
    "from numpy import interp\n",
    "\n",
    "def cal_nomodel_confidence_interval(x_test, y_test):\n",
    "    data_plot = []\n",
    "    auc_list = []  \n",
    "    for i in range(100):\n",
    "        # 随机采样训练集合\n",
    "        x_external_val_test = x_test.sample(frac = 0.9, random_state = i)\n",
    "        y_external_val_test = y_test.loc[x_external_val_test.index, :]\n",
    "\n",
    "        mean_tpr_xgb = 0.0\n",
    "        mean_fpr_xgb = np.linspace(0, 1, 100)\n",
    "        \n",
    "        x_external_val_test = x_external_val_test/22\n",
    "\n",
    "        probas_ = x_external_val_test.loc[:,:]\n",
    "        fpr, tpr, thresholds = roc_curve(y_external_val_test, probas_)\n",
    "        mean_tpr_xgb += interp(mean_fpr_xgb, fpr, tpr)\t\t\t#对mean_tpr在mean_fpr处进行插值，通过scipy包调用interp()函数\n",
    "        mean_tpr_xgb[0] = 0.0\n",
    "\n",
    "        # xgboost 平均AUC\n",
    "        mean_tpr_xgb[-1] = 1.0 #坐标最后一个点为（1,1）\n",
    "        mean_auc_xgb = auc(mean_fpr_xgb, mean_tpr_xgb)#计算平均AUC值\n",
    "\n",
    "        data_plot.append(mean_tpr_xgb)\n",
    "        auc_list.append(mean_auc_xgb)\n",
    "\n",
    "    data_plot = np.array(data_plot)\n",
    "    sorts = sorted(auc_list)\n",
    "    data_plot = data_plot[np.argsort(auc_list)]\n",
    "\n",
    "    x =95\n",
    "    k = len(sorts)\n",
    "    gap = (k - (x/100)*k)/2\n",
    "    l_limit_idx = int(gap)\n",
    "    u_limit_idx = int(k-gap)\n",
    "    \n",
    "    return sorts, l_limit_idx, u_limit_idx\n",
    "\n",
    "def plot_sofa(X_sofa_test, y_test):\n",
    "    X_sofa2 = X_sofa_test/22\n",
    "    mean_tpr_xgb_sofa = 0.0\n",
    "    mean_fpr_xgb_sofa = np.linspace(0, 1, 100)\n",
    "\n",
    "    probas_ = X_sofa2\n",
    "    #通过roc_curve()函数，求出fpr和tpr，以及阈值\n",
    "    fpr, tpr, thresholds = roc_curve(y_test, probas_)\n",
    "    mean_tpr_xgb_sofa += interp(mean_fpr_xgb_sofa, fpr, tpr) #对mean_tpr在mean_fpr处进行插值，通过scipy包调用interp()函数\n",
    "    mean_tpr_xgb_sofa[0] = 0.0    #初始处为0\n",
    "\n",
    "    mean_tpr_xgb_sofa[-1] = 1.0 #坐标最后一个点为（1,1）\n",
    "    mean_auc_xgb_sofa = auc(mean_fpr_xgb_sofa, mean_tpr_xgb_sofa)#计算平均AUC值\n",
    "\n",
    "    sorts, l_limit_idx, u_limit_idx = cal_nomodel_confidence_interval(X_sofa_test, y_test)\n",
    "\n",
    "    #画平均ROC曲线\n",
    "    plt.plot(mean_fpr_xgb_sofa, mean_tpr_xgb_sofa, label='SOFA (AUC=%0.3f)' % mean_auc_xgb_sofa, lw=2)\n",
    "\n",
    "    #画对角线\n",
    "    # plt.plot([0, 1], [0, 1], '--', color=(0.6, 0.6, 0.6))\n",
    "\n",
    "    plt.xlim([-0.05, 1.05])\n",
    "    plt.ylim([-0.05, 1.05])\n",
    "    plt.xlabel('False Positive Rate')\n",
    "    plt.ylabel('True Positive Rate')\n",
    "    # plt.title('Receiver operating characteristic curve')\n",
    "    plt.legend(loc=\"lower right\")"
   ]
  },
  {
   "cell_type": "code",
   "execution_count": 32,
   "metadata": {},
   "outputs": [
    {
     "data": {
      "image/png": "[encoded data removed]",
      "text/plain": [
       "<Figure size 432x288 with 1 Axes>"
      ]
     },
     "metadata": {
      "needs_background": "light"
     },
     "output_type": "display_data"
    }
   ],
   "source": [
    "plot_sofa(df_train_copd.loc[:, ['sofa']], df_train_copd.loc[:, ['death_hosp']])"
   ]
  },
  {
   "cell_type": "code",
   "execution_count": 33,
   "metadata": {},
   "outputs": [
    {
     "data": {
      "image/png": "[encoded data removed]",
      "text/plain": [
       "<Figure size 432x288 with 1 Axes>"
      ]
     },
     "metadata": {
      "needs_background": "light"
     },
     "output_type": "display_data"
    }
   ],
   "source": [
    "plot_sofa(df_temporal.loc[:, ['sofa']], df_temporal.loc[:, ['death_hosp']])"
   ]
  },
  {
   "cell_type": "markdown",
   "metadata": {},
   "source": [
    "# GWTG-HF"
   ]
  },
  {
   "cell_type": "code",
   "execution_count": 34,
   "metadata": {},
   "outputs": [
    {
     "data": {
      "text/plain": [
       "56"
      ]
     },
     "execution_count": 34,
     "metadata": {},
     "output_type": "execute_result"
    }
   ],
   "source": [
    "def cal_GWTG_hf(X_data):\n",
    "    bp = X_data.sbp_mean\n",
    "    bun = X_data.bun_max\n",
    "    sodium = X_data.sodium_max\n",
    "    age = X_data.age\n",
    "    heartrate = X_data.heart_rate_mean\n",
    "    black = X_data.ethnicity\n",
    "    copd = X_data.chronic_obstructive_pulmonary_disease\n",
    "    \n",
    "#     print('sbp:',bp,'\\n','bun:',bun,'\\n','sodium:',sodium,'\\n','age:', age, '\\n','heart rate:', heartrate,'\\n','black',black,'\\n','copd:',copd)\n",
    "    \n",
    "    point=0\n",
    "    \n",
    "    # calculate bp points \n",
    "    if 50<=bp and bp<=59:\n",
    "        point = point + 28\n",
    "    elif 60<=bp and bp<=69:\n",
    "        point = point + 26\n",
    "    elif 70<=bp and bp<=79:\n",
    "        point = point + 24\n",
    "    elif 80<=bp and bp<=89:\n",
    "        point = point + 23\n",
    "    elif 90<=bp and bp<=99:\n",
    "        point = point + 21\n",
    "    elif 100<=bp and bp<=109:\n",
    "        point = point + 19\n",
    "    elif 110<=bp and bp<=119:\n",
    "        point = point + 17\n",
    "    elif 120<=bp and bp<=129:\n",
    "        point = point + 15\n",
    "    elif 130<=bp and bp<=139:\n",
    "        point = point + 13\n",
    "    elif 140<=bp and bp<=149:\n",
    "        point = point + 11\n",
    "    elif 150<=bp and bp<=159:\n",
    "        point = point + 9\n",
    "    elif 160<=bp and bp<=169:\n",
    "        point = point + 8\n",
    "    elif 170<=bp and bp<=179:\n",
    "        point = point + 6\n",
    "    elif 180<=bp and bp<=189:\n",
    "        point = point + 4\n",
    "    elif 190<=bp and bp<=199:\n",
    "        point = point + 2\n",
    "    elif 200<=bp:\n",
    "        point = point + 0\n",
    "        \n",
    "    # calculate bun points \n",
    "    if bun<=9:\n",
    "        point = point + 0\n",
    "    elif 10<=bun and bun<=19:\n",
    "        point = point + 2\n",
    "    elif 20<=bun and bun<=29:\n",
    "        point = point + 4\n",
    "    elif 30<=bun and bun<=39:\n",
    "        point = point + 6\n",
    "    elif 40<=bun and bun<=49:\n",
    "        point = point + 8\n",
    "    elif 50<=bun and bun<=59:\n",
    "        point = point + 9\n",
    "    elif 60<=bun and bun<=69:\n",
    "        point = point + 11\n",
    "    elif 70<=bun and bun<=79:\n",
    "        point = point + 13\n",
    "    elif 80<=bun and bun<=89:\n",
    "        point = point + 15\n",
    "    elif 90<=bun and bun<=99:\n",
    "        point = point + 17\n",
    "    elif 100<=bun and bun<=109:\n",
    "        point = point + 19\n",
    "    elif 110<=bun and bun<=119:\n",
    "        point = point + 21\n",
    "    elif 120<=bun and bun<=129:\n",
    "        point = point + 23\n",
    "    elif 130<=bun and bun<=139:\n",
    "        point = point + 25\n",
    "    elif 140<=bun and bun<=149:\n",
    "        point = point + 27\n",
    "    elif 150<=bun :\n",
    "        point = point + 28\n",
    "        \n",
    "    # calculate sodium points \n",
    "    if sodium<=130:\n",
    "        point = point + 4\n",
    "    elif sodium==131 or sodium==132 or sodium==133:\n",
    "        point = point + 3\n",
    "    elif sodium==134 or sodium==135 or sodium==136:\n",
    "        point = point + 2\n",
    "    elif sodium==137 or sodium==138:\n",
    "        point = point + 1\n",
    "    if sodium>=139:\n",
    "        point = point + 0\n",
    "        \n",
    "    # calculate age points \n",
    "    if age<=19:\n",
    "        point = point + 0\n",
    "    elif 20<=age and age<=29:\n",
    "        point = point + 3\n",
    "    elif 30<=age and age<=39:\n",
    "        point = point + 6\n",
    "    elif 40<=age and age<=49:\n",
    "        point = point + 8\n",
    "    elif 50<=age and age<=59:\n",
    "        point = point + 11\n",
    "    elif 60<=age and age<=69:\n",
    "        point = point + 14\n",
    "    elif 70<=age and age<=79:\n",
    "        point = point + 17\n",
    "    elif 80<=age and age<=89:\n",
    "        point = point + 19\n",
    "    elif 90<=age and age<=99:\n",
    "        point = point + 22\n",
    "    elif 100<=age and age<=109:\n",
    "        point = point + 25\n",
    "    elif 110<=age:\n",
    "        point = point + 28\n",
    "        \n",
    "    # calculate heart rate points \n",
    "    if heartrate<=79:\n",
    "        point = point + 0\n",
    "    elif 80<=heartrate and heartrate<=84:\n",
    "        point = point + 1\n",
    "    elif 85<=heartrate and heartrate<=89:\n",
    "        point = point + 3\n",
    "    elif 90<=heartrate and heartrate<=94:\n",
    "        point = point + 4\n",
    "    elif 95<=heartrate and heartrate<=99:\n",
    "        point = point + 5\n",
    "    elif 100<=heartrate and heartrate<=104:\n",
    "        point = point + 6\n",
    "    elif 105<=heartrate:\n",
    "        point = point + 8\n",
    "        \n",
    "    # calculate black man points \n",
    "    if black==1:\n",
    "        point = point + 0\n",
    "    else:\n",
    "        point = point + 3\n",
    "        \n",
    "    # calculate COPD points \n",
    "    if copd==1:\n",
    "        point = point + 2\n",
    "    else:\n",
    "        point = point + 0\n",
    "    \n",
    "    # calculate probability of death according to point    \n",
    "    prop_of_death = 0\n",
    "    if 0<=point and point<=33:\n",
    "        prop_of_death = 0.01\n",
    "    elif 34<=point and point<=50:\n",
    "        prop_of_death = 0.03\n",
    "    elif 51<=point and point<=57:\n",
    "        prop_of_death = 0.13\n",
    "    elif 58<=point and point<=61:\n",
    "        prop_of_death = 0.17\n",
    "    elif 62<=point and point<=65:\n",
    "        prop_of_death = 0.25\n",
    "    elif 66<=point and point<=70:\n",
    "        prop_of_death = 0.35\n",
    "    elif 75<=point and point<=78:\n",
    "        prop_of_death = 0.45\n",
    "    elif 79<=point:\n",
    "        prop_of_death = 0.51\n",
    "    \n",
    "    return point\n",
    "\n",
    "cal_GWTG_hf(df_mimiciii_all.loc[0, :])"
   ]
  },
  {
   "cell_type": "code",
   "execution_count": 35,
   "metadata": {},
   "outputs": [
    {
     "data": {
      "text/html": [
       "<div>\n",
       "<style scoped>\n",
       "    .dataframe tbody tr th:only-of-type {\n",
       "        vertical-align: middle;\n",
       "    }\n",
       "\n",
       "    .dataframe tbody tr th {\n",
       "        vertical-align: top;\n",
       "    }\n",
       "\n",
       "    .dataframe thead th {\n",
       "        text-align: right;\n",
       "    }\n",
       "</style>\n",
       "<table border=\"1\" class=\"dataframe\">\n",
       "  <thead>\n",
       "    <tr style=\"text-align: right;\">\n",
       "      <th></th>\n",
       "      <th>sbp_mean</th>\n",
       "      <th>bun_max</th>\n",
       "      <th>sodium_max</th>\n",
       "      <th>age</th>\n",
       "      <th>heart_rate_mean</th>\n",
       "      <th>ethnicity</th>\n",
       "      <th>chronic_obstructive_pulmonary_disease</th>\n",
       "      <th>death_hosp</th>\n",
       "    </tr>\n",
       "  </thead>\n",
       "  <tbody>\n",
       "    <tr>\n",
       "      <th>0</th>\n",
       "      <td>103.0</td>\n",
       "      <td>53.0</td>\n",
       "      <td>153.0</td>\n",
       "      <td>76.0</td>\n",
       "      <td>111.8</td>\n",
       "      <td>0</td>\n",
       "      <td>0</td>\n",
       "      <td>0</td>\n",
       "    </tr>\n",
       "    <tr>\n",
       "      <th>1</th>\n",
       "      <td>159.4</td>\n",
       "      <td>17.0</td>\n",
       "      <td>140.0</td>\n",
       "      <td>41.0</td>\n",
       "      <td>92.5</td>\n",
       "      <td>0</td>\n",
       "      <td>0</td>\n",
       "      <td>1</td>\n",
       "    </tr>\n",
       "    <tr>\n",
       "      <th>2</th>\n",
       "      <td>105.8</td>\n",
       "      <td>102.0</td>\n",
       "      <td>140.0</td>\n",
       "      <td>87.0</td>\n",
       "      <td>67.8</td>\n",
       "      <td>0</td>\n",
       "      <td>0</td>\n",
       "      <td>0</td>\n",
       "    </tr>\n",
       "    <tr>\n",
       "      <th>3</th>\n",
       "      <td>98.0</td>\n",
       "      <td>33.0</td>\n",
       "      <td>143.0</td>\n",
       "      <td>72.0</td>\n",
       "      <td>62.5</td>\n",
       "      <td>0</td>\n",
       "      <td>0</td>\n",
       "      <td>0</td>\n",
       "    </tr>\n",
       "    <tr>\n",
       "      <th>4</th>\n",
       "      <td>113.7</td>\n",
       "      <td>46.0</td>\n",
       "      <td>129.0</td>\n",
       "      <td>92.4</td>\n",
       "      <td>81.0</td>\n",
       "      <td>0</td>\n",
       "      <td>0</td>\n",
       "      <td>0</td>\n",
       "    </tr>\n",
       "    <tr>\n",
       "      <th>...</th>\n",
       "      <td>...</td>\n",
       "      <td>...</td>\n",
       "      <td>...</td>\n",
       "      <td>...</td>\n",
       "      <td>...</td>\n",
       "      <td>...</td>\n",
       "      <td>...</td>\n",
       "      <td>...</td>\n",
       "    </tr>\n",
       "    <tr>\n",
       "      <th>12851</th>\n",
       "      <td>112.9</td>\n",
       "      <td>28.0</td>\n",
       "      <td>141.0</td>\n",
       "      <td>76.0</td>\n",
       "      <td>79.3</td>\n",
       "      <td>0</td>\n",
       "      <td>0</td>\n",
       "      <td>0</td>\n",
       "    </tr>\n",
       "    <tr>\n",
       "      <th>12852</th>\n",
       "      <td>99.1</td>\n",
       "      <td>16.0</td>\n",
       "      <td>139.0</td>\n",
       "      <td>53.0</td>\n",
       "      <td>99.0</td>\n",
       "      <td>0</td>\n",
       "      <td>0</td>\n",
       "      <td>0</td>\n",
       "    </tr>\n",
       "    <tr>\n",
       "      <th>12853</th>\n",
       "      <td>119.7</td>\n",
       "      <td>70.0</td>\n",
       "      <td>134.0</td>\n",
       "      <td>82.0</td>\n",
       "      <td>96.0</td>\n",
       "      <td>0</td>\n",
       "      <td>0</td>\n",
       "      <td>0</td>\n",
       "    </tr>\n",
       "    <tr>\n",
       "      <th>12854</th>\n",
       "      <td>123.8</td>\n",
       "      <td>19.0</td>\n",
       "      <td>140.0</td>\n",
       "      <td>66.0</td>\n",
       "      <td>62.9</td>\n",
       "      <td>0</td>\n",
       "      <td>0</td>\n",
       "      <td>0</td>\n",
       "    </tr>\n",
       "    <tr>\n",
       "      <th>12855</th>\n",
       "      <td>88.9</td>\n",
       "      <td>86.0</td>\n",
       "      <td>166.0</td>\n",
       "      <td>53.0</td>\n",
       "      <td>97.0</td>\n",
       "      <td>0</td>\n",
       "      <td>0</td>\n",
       "      <td>0</td>\n",
       "    </tr>\n",
       "  </tbody>\n",
       "</table>\n",
       "<p>12856 rows × 8 columns</p>\n",
       "</div>"
      ],
      "text/plain": [
       "       sbp_mean  bun_max  sodium_max   age  heart_rate_mean  ethnicity  \\\n",
       "0         103.0     53.0       153.0  76.0            111.8          0   \n",
       "1         159.4     17.0       140.0  41.0             92.5          0   \n",
       "2         105.8    102.0       140.0  87.0             67.8          0   \n",
       "3          98.0     33.0       143.0  72.0             62.5          0   \n",
       "4         113.7     46.0       129.0  92.4             81.0          0   \n",
       "...         ...      ...         ...   ...              ...        ...   \n",
       "12851     112.9     28.0       141.0  76.0             79.3          0   \n",
       "12852      99.1     16.0       139.0  53.0             99.0          0   \n",
       "12853     119.7     70.0       134.0  82.0             96.0          0   \n",
       "12854     123.8     19.0       140.0  66.0             62.9          0   \n",
       "12855      88.9     86.0       166.0  53.0             97.0          0   \n",
       "\n",
       "       chronic_obstructive_pulmonary_disease  death_hosp  \n",
       "0                                          0           0  \n",
       "1                                          0           1  \n",
       "2                                          0           0  \n",
       "3                                          0           0  \n",
       "4                                          0           0  \n",
       "...                                      ...         ...  \n",
       "12851                                      0           0  \n",
       "12852                                      0           0  \n",
       "12853                                      0           0  \n",
       "12854                                      0           0  \n",
       "12855                                      0           0  \n",
       "\n",
       "[12856 rows x 8 columns]"
      ]
     },
     "execution_count": 35,
     "metadata": {},
     "output_type": "execute_result"
    }
   ],
   "source": [
    "data_gwtg = df_mimiciii_all.loc[:, ['sbp_mean' ,'bun_max','sodium_max','age','heart_rate_mean',\n",
    "                          'ethnicity','chronic_obstructive_pulmonary_disease', 'death_hosp']].dropna().reset_index(drop=True)\n",
    "# data_gwtg['ethnicity'] = data_gwtg['ethnicity'].map({'asian': 0, 'black': 1, 'hispanic': 0,  \"other\": 0, \"white\":  0}).astype(int)\n",
    "data_gwtg"
   ]
  },
  {
   "cell_type": "code",
   "execution_count": 36,
   "metadata": {},
   "outputs": [
    {
     "data": {
      "text/html": [
       "<div>\n",
       "<style scoped>\n",
       "    .dataframe tbody tr th:only-of-type {\n",
       "        vertical-align: middle;\n",
       "    }\n",
       "\n",
       "    .dataframe tbody tr th {\n",
       "        vertical-align: top;\n",
       "    }\n",
       "\n",
       "    .dataframe thead th {\n",
       "        text-align: right;\n",
       "    }\n",
       "</style>\n",
       "<table border=\"1\" class=\"dataframe\">\n",
       "  <thead>\n",
       "    <tr style=\"text-align: right;\">\n",
       "      <th></th>\n",
       "      <th>sbp_mean</th>\n",
       "      <th>bun_max</th>\n",
       "      <th>sodium_max</th>\n",
       "      <th>age</th>\n",
       "      <th>heart_rate_mean</th>\n",
       "      <th>ethnicity</th>\n",
       "      <th>chronic_obstructive_pulmonary_disease</th>\n",
       "      <th>death_hosp</th>\n",
       "    </tr>\n",
       "  </thead>\n",
       "  <tbody>\n",
       "    <tr>\n",
       "      <th>0</th>\n",
       "      <td>117.6</td>\n",
       "      <td>14.0</td>\n",
       "      <td>132.0</td>\n",
       "      <td>70</td>\n",
       "      <td>75.0</td>\n",
       "      <td>0</td>\n",
       "      <td>0</td>\n",
       "      <td>0</td>\n",
       "    </tr>\n",
       "    <tr>\n",
       "      <th>1</th>\n",
       "      <td>107.0</td>\n",
       "      <td>36.0</td>\n",
       "      <td>146.0</td>\n",
       "      <td>91</td>\n",
       "      <td>92.2</td>\n",
       "      <td>0</td>\n",
       "      <td>0</td>\n",
       "      <td>0</td>\n",
       "    </tr>\n",
       "    <tr>\n",
       "      <th>2</th>\n",
       "      <td>105.5</td>\n",
       "      <td>33.0</td>\n",
       "      <td>147.0</td>\n",
       "      <td>81</td>\n",
       "      <td>66.9</td>\n",
       "      <td>0</td>\n",
       "      <td>0</td>\n",
       "      <td>0</td>\n",
       "    </tr>\n",
       "    <tr>\n",
       "      <th>3</th>\n",
       "      <td>112.0</td>\n",
       "      <td>28.0</td>\n",
       "      <td>135.0</td>\n",
       "      <td>68</td>\n",
       "      <td>81.1</td>\n",
       "      <td>0</td>\n",
       "      <td>1</td>\n",
       "      <td>0</td>\n",
       "    </tr>\n",
       "    <tr>\n",
       "      <th>4</th>\n",
       "      <td>94.7</td>\n",
       "      <td>18.0</td>\n",
       "      <td>147.0</td>\n",
       "      <td>42</td>\n",
       "      <td>101.4</td>\n",
       "      <td>0</td>\n",
       "      <td>0</td>\n",
       "      <td>1</td>\n",
       "    </tr>\n",
       "    <tr>\n",
       "      <th>...</th>\n",
       "      <td>...</td>\n",
       "      <td>...</td>\n",
       "      <td>...</td>\n",
       "      <td>...</td>\n",
       "      <td>...</td>\n",
       "      <td>...</td>\n",
       "      <td>...</td>\n",
       "      <td>...</td>\n",
       "    </tr>\n",
       "    <tr>\n",
       "      <th>1891</th>\n",
       "      <td>139.7</td>\n",
       "      <td>17.0</td>\n",
       "      <td>144.0</td>\n",
       "      <td>88</td>\n",
       "      <td>86.8</td>\n",
       "      <td>0</td>\n",
       "      <td>0</td>\n",
       "      <td>0</td>\n",
       "    </tr>\n",
       "    <tr>\n",
       "      <th>1892</th>\n",
       "      <td>101.8</td>\n",
       "      <td>21.0</td>\n",
       "      <td>129.0</td>\n",
       "      <td>81</td>\n",
       "      <td>118.2</td>\n",
       "      <td>1</td>\n",
       "      <td>0</td>\n",
       "      <td>0</td>\n",
       "    </tr>\n",
       "    <tr>\n",
       "      <th>1893</th>\n",
       "      <td>145.3</td>\n",
       "      <td>26.0</td>\n",
       "      <td>145.0</td>\n",
       "      <td>91</td>\n",
       "      <td>63.0</td>\n",
       "      <td>0</td>\n",
       "      <td>0</td>\n",
       "      <td>1</td>\n",
       "    </tr>\n",
       "    <tr>\n",
       "      <th>1894</th>\n",
       "      <td>107.0</td>\n",
       "      <td>34.0</td>\n",
       "      <td>143.0</td>\n",
       "      <td>56</td>\n",
       "      <td>68.9</td>\n",
       "      <td>0</td>\n",
       "      <td>0</td>\n",
       "      <td>0</td>\n",
       "    </tr>\n",
       "    <tr>\n",
       "      <th>1895</th>\n",
       "      <td>155.1</td>\n",
       "      <td>91.0</td>\n",
       "      <td>143.0</td>\n",
       "      <td>81</td>\n",
       "      <td>70.8</td>\n",
       "      <td>0</td>\n",
       "      <td>0</td>\n",
       "      <td>0</td>\n",
       "    </tr>\n",
       "  </tbody>\n",
       "</table>\n",
       "<p>1896 rows × 8 columns</p>\n",
       "</div>"
      ],
      "text/plain": [
       "      sbp_mean  bun_max  sodium_max  age  heart_rate_mean  ethnicity  \\\n",
       "0        117.6     14.0       132.0   70             75.0          0   \n",
       "1        107.0     36.0       146.0   91             92.2          0   \n",
       "2        105.5     33.0       147.0   81             66.9          0   \n",
       "3        112.0     28.0       135.0   68             81.1          0   \n",
       "4         94.7     18.0       147.0   42            101.4          0   \n",
       "...        ...      ...         ...  ...              ...        ...   \n",
       "1891     139.7     17.0       144.0   88             86.8          0   \n",
       "1892     101.8     21.0       129.0   81            118.2          1   \n",
       "1893     145.3     26.0       145.0   91             63.0          0   \n",
       "1894     107.0     34.0       143.0   56             68.9          0   \n",
       "1895     155.1     91.0       143.0   81             70.8          0   \n",
       "\n",
       "      chronic_obstructive_pulmonary_disease  death_hosp  \n",
       "0                                         0           0  \n",
       "1                                         0           0  \n",
       "2                                         0           0  \n",
       "3                                         1           0  \n",
       "4                                         0           1  \n",
       "...                                     ...         ...  \n",
       "1891                                      0           0  \n",
       "1892                                      0           0  \n",
       "1893                                      0           1  \n",
       "1894                                      0           0  \n",
       "1895                                      0           0  \n",
       "\n",
       "[1896 rows x 8 columns]"
      ]
     },
     "execution_count": 36,
     "metadata": {},
     "output_type": "execute_result"
    }
   ],
   "source": [
    "data_gwtg_temporal = df_temporal.loc[:, ['sbp_mean' ,'bun_max','sodium_max','age','heart_rate_mean',\n",
    "                          'ethnicity','chronic_obstructive_pulmonary_disease', 'death_hosp']].dropna().reset_index(drop=True)\n",
    "# data_gwtg['ethnicity'] = data_gwtg['ethnicity'].map({'asian': 0, 'black': 1, 'hispanic': 0,  \"other\": 0, \"white\":  0}).astype(int)\n",
    "data_gwtg_temporal"
   ]
  },
  {
   "cell_type": "code",
   "execution_count": 37,
   "metadata": {},
   "outputs": [
    {
     "name": "stderr",
     "output_type": "stream",
     "text": [
      "pandas bar: 100%|█████████████████████████████████████████████████████████████| 12856/12856 [00:00<00:00, 15554.23it/s]\n",
      "pandas bar: 100%|███████████████████████████████████████████████████████████████| 1896/1896 [00:00<00:00, 13550.62it/s]\n"
     ]
    }
   ],
   "source": [
    "# 循环整个dataframe\n",
    "from tqdm import tqdm\n",
    "tqdm.pandas(desc='pandas bar') \n",
    "df_gwtg_X = pd.DataFrame({})\n",
    "df_gwtg_X[\"prop_of_death\"] = data_gwtg.progress_apply(cal_GWTG_hf, axis=1)\n",
    "\n",
    "df_gwtg_X_temporal = pd.DataFrame({})\n",
    "df_gwtg_X_temporal[\"prop_of_death\"] = data_gwtg_temporal.progress_apply(cal_GWTG_hf, axis=1)"
   ]
  },
  {
   "cell_type": "code",
   "execution_count": 38,
   "metadata": {},
   "outputs": [],
   "source": [
    "def plot_gwtg_hf(df_gwtg, data_gwtg_origin):\n",
    "    # GWTG 评分\n",
    "    X_gwtg = df_gwtg.loc[:, [\"prop_of_death\"]]\n",
    "    y_gwtg = data_gwtg_origin.loc[:, [\"death_hosp\"]]\n",
    "\n",
    "    mean_tpr_xgb_gwtg = 0.0\n",
    "    mean_fpr_xgb_gwtg = np.linspace(0, 1, 100)\n",
    "\n",
    "    probas_ = X_gwtg.loc[:,:]\n",
    "    #通过roc_curve()函数，求出fpr和tpr，以及阈值\n",
    "    fpr, tpr, thresholds = roc_curve(y_gwtg.loc[:, :], probas_)\n",
    "    mean_tpr_xgb_gwtg += interp(mean_fpr_xgb_gwtg, fpr, tpr) #对mean_tpr在mean_fpr处进行插值，通过scipy包调用interp()函数\n",
    "    mean_tpr_xgb_gwtg[0] = 0.0 #初始处为0\n",
    "    roc_auc = auc(fpr, tpr)\n",
    "\n",
    "    # SOFA平均AUC\n",
    "    mean_tpr_xgb_gwtg /= 1 #在mean_fpr100个点，每个点处插值插值多次取平均\n",
    "    mean_tpr_xgb_gwtg[-1] = 1.0 #坐标最后一个点为（1,1）\n",
    "    mean_auc_xgb_gwtg = auc(mean_fpr_xgb_gwtg, mean_tpr_xgb_gwtg)#计算平均AUC值\n",
    "\n",
    "    sorts, l_limit_idx, u_limit_idx = cal_nomodel_confidence_interval(X_gwtg, y_gwtg)\n",
    "\n",
    "    #画平均ROC曲线\n",
    "    plt.plot(mean_fpr_xgb_gwtg, mean_tpr_xgb_gwtg, label='GWTG-HF (AUC=%0.3f)' % mean_auc_xgb_gwtg, lw=2)\n",
    "\n",
    "    #画对角线\n",
    "#     plt.plot([0, 1], [0, 1], '--', color=(0.6, 0.6, 0.6), label='Luck')\n",
    "\n",
    "    # plt.plot(mean_fpr_xgb_gwtg, mean_tpr_xgb_gwtg, label='GWTG-HF Mean ROC (area = %0.3f)' % mean_auc_xgb_gwtg, lw=2)\n",
    "\n",
    "    plt.xlim([-0.05, 1.05])\n",
    "    plt.ylim([-0.05, 1.05])\n",
    "    plt.xlabel('False Positive Rate')\n",
    "    plt.ylabel('True Positive Rate')\n",
    "    # plt.title('Receiver operating characteristic example')\n",
    "    plt.legend(loc=\"lower right\")\n",
    "#     plt.show()"
   ]
  },
  {
   "cell_type": "code",
   "execution_count": 39,
   "metadata": {},
   "outputs": [
    {
     "data": {
      "image/png": "[encoded data removed]",
      "text/plain": [
       "<Figure size 432x288 with 1 Axes>"
      ]
     },
     "metadata": {
      "needs_background": "light"
     },
     "output_type": "display_data"
    }
   ],
   "source": [
    "plot_gwtg_hf(df_gwtg_X, data_gwtg)"
   ]
  },
  {
   "cell_type": "code",
   "execution_count": 40,
   "metadata": {},
   "outputs": [
    {
     "data": {
      "image/png": "[encoded data removed]",
      "text/plain": [
       "<Figure size 432x288 with 1 Axes>"
      ]
     },
     "metadata": {
      "needs_background": "light"
     },
     "output_type": "display_data"
    }
   ],
   "source": [
    "plot_gwtg_hf( df_gwtg_X_temporal, data_gwtg_temporal)"
   ]
  },
  {
   "cell_type": "markdown",
   "metadata": {},
   "source": [
    "# 合并图像"
   ]
  },
  {
   "cell_type": "code",
   "execution_count": 41,
   "metadata": {},
   "outputs": [],
   "source": [
    "from matplotlib import rcParams\n",
    "\n",
    "config = {\n",
    "    \"font.family\":'Times New Roman',\n",
    "    \"font.size\": 13,\n",
    "    \"mathtext.fontset\":'stix',\n",
    "    \"font.serif\": ['Times New Roman'],\n",
    "    \"font.weight\": 'bold',\n",
    "}\n",
    "rcParams.update(config)\n",
    "\n",
    "plt.rcParams['font.sans-serif'] = ['Times New Roman']  # 用来正常显示中文标签"
   ]
  },
  {
   "cell_type": "code",
   "execution_count": 42,
   "metadata": {},
   "outputs": [
    {
     "data": {
      "image/png": "[encoded data removed]",
      "text/plain": [
       "<Figure size 432x288 with 1 Axes>"
      ]
     },
     "metadata": {
      "needs_background": "light"
     },
     "output_type": "display_data"
    }
   ],
   "source": [
    "# plot_sofa(df_train_copd.loc[:, ['sofa']], df_train_copd.loc[:, ['death_hosp']])\n",
    "plot_gwtg_hf(df_gwtg_X, data_gwtg)\n",
    "plot_result(df_test['death_hosp'], preds[0])"
   ]
  },
  {
   "cell_type": "code",
   "execution_count": 43,
   "metadata": {},
   "outputs": [
    {
     "data": {
      "image/png": "[encoded data removed]",
      "text/plain": [
       "<Figure size 432x288 with 1 Axes>"
      ]
     },
     "metadata": {
      "needs_background": "light"
     },
     "output_type": "display_data"
    }
   ],
   "source": [
    "# plot_sofa(df_temporal.loc[:, ['sofa']], df_temporal.loc[:, ['death_hosp']])\n",
    "plot_gwtg_hf( df_gwtg_X_temporal, data_gwtg_temporal)\n",
    "plot_result(df_temporal_results['death_hosp'], df_temporal_results['preds'])"
   ]
  },
  {
   "cell_type": "code",
   "execution_count": null,
   "metadata": {},
   "outputs": [],
   "source": []
  }
 ],
 "metadata": {
  "kernelspec": {
   "display_name": "Python 3",
   "language": "python",
   "name": "python3"
  },
  "language_info": {
   "codemirror_mode": {
    "name": "ipython",
    "version": 3
   },
   "file_extension": ".py",
   "mimetype": "text/x-python",
   "name": "python",
   "nbconvert_exporter": "python",
   "pygments_lexer": "ipython3",
   "version": "3.7.4"
  }
 },
 "nbformat": 4,
 "nbformat_minor": 2
}
