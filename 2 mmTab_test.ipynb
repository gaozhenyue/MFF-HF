{
 "cells": [
  {
   "cell_type": "code",
   "execution_count": 1,
   "metadata": {},
   "outputs": [],
   "source": [
    "import pandas as pd\n",
    "import torch#深度学习的pytoch平台\n",
    "import torch.nn as nn\n",
    "import numpy as np\n",
    "import random\n",
    "import os\n",
    "import time#可以用来简单地记录时间\n",
    "import matplotlib.pyplot as plt#画图\n",
    "from sklearn.metrics import roc_auc_score, precision_recall_curve, roc_curve, auc\n",
    "\n",
    "from torch import Tensor\n",
    "from torch import nn, optim\n",
    "from torch.utils.data import TensorDataset, DataLoader, RandomSampler, SequentialSampler"
   ]
  },
  {
   "cell_type": "code",
   "execution_count": 2,
   "metadata": {},
   "outputs": [],
   "source": [
    "from models.dual_adaptation_gate import DAG_Tabular, TabTransformer, mm_tab\n",
    "from models.train_and_test_step import train_model, test_model, evaluate_model, plot_result"
   ]
  },
  {
   "cell_type": "code",
   "execution_count": 3,
   "metadata": {},
   "outputs": [],
   "source": [
    "from pyDeepInsight import ImageTransformer\n",
    "from pyDeepInsight.utils import Norm2Scaler\n",
    "from sklearn.model_selection import train_test_split\n",
    "from sklearn.preprocessing import LabelEncoder\n",
    "from sklearn.manifold import TSNE\n",
    "\n",
    "import torchvision\n",
    "import torchvision.transforms as transforms"
   ]
  },
  {
   "cell_type": "markdown",
   "metadata": {},
   "source": [
    "# 加载数据"
   ]
  },
  {
   "cell_type": "code",
   "execution_count": 4,
   "metadata": {},
   "outputs": [],
   "source": [
    "file_path = '../datasets/mimic/'\n",
    "df_train = pd.read_csv(file_path + 'train.csv')\n",
    "df_test = pd.read_csv(file_path + 'test.csv')\n",
    "df_val = pd.read_csv(file_path + 'val.csv')"
   ]
  },
  {
   "cell_type": "markdown",
   "metadata": {},
   "source": [
    "# Check device"
   ]
  },
  {
   "cell_type": "code",
   "execution_count": 5,
   "metadata": {},
   "outputs": [
    {
     "name": "stdout",
     "output_type": "stream",
     "text": [
      "There are %d GPU(s) available. 1\n",
      "We will use the GPU: NVIDIA GeForce GTX 1080 Ti\n"
     ]
    }
   ],
   "source": [
    "# Check device \n",
    "# Get the GPU device name if available.\n",
    "if torch.cuda.is_available():    \n",
    "    # Tell PyTorch to use the GPU.    \n",
    "    device = torch.device(\"cuda\")\n",
    "    print('There are %d GPU(s) available. {}'.format(torch.cuda.device_count()))\n",
    "    print('We will use the GPU: {}'.format(torch.cuda.get_device_name(0)))\n",
    "\n",
    "# If we dont have GPU but a CPU, training will take place on CPU instead\n",
    "else:\n",
    "    print('No GPU available, using the CPU instead.')\n",
    "    device = torch.device(\"cpu\")\n",
    "    \n",
    "torch.cuda.empty_cache()\n",
    "    \n",
    "# Set the seed value all over the place to make this reproducible.\n",
    "seed_val = 23#43\n",
    "\n",
    "random.seed(seed_val)\n",
    "np.random.seed(seed_val)\n",
    "torch.manual_seed(seed_val)\n",
    "torch.cuda.manual_seed(seed_val)\n",
    "torch.cuda.manual_seed_all(seed_val)\n",
    "os.environ['PYTHONHASHSEED'] = str(seed_val)\n",
    "\n",
    "torch.backends.cudnn.benchmark = False\n",
    "torch.backends.cudnn.deterministic = True"
   ]
  },
  {
   "cell_type": "markdown",
   "metadata": {},
   "source": [
    "# Define hybrid parameters"
   ]
  },
  {
   "cell_type": "code",
   "execution_count": 6,
   "metadata": {},
   "outputs": [],
   "source": [
    "batch_size = 64\n",
    "epochs = 20\n",
    "learning_rate = 1e-3 # Controls how large a step is taken when updating model weights during training.\n",
    "steps_per_epoch = int(len(df_train) / batch_size / 1 * epochs)\n",
    "num_workers = 0"
   ]
  },
  {
   "cell_type": "markdown",
   "metadata": {},
   "source": [
    "# Load data"
   ]
  },
  {
   "cell_type": "code",
   "execution_count": 7,
   "metadata": {},
   "outputs": [],
   "source": [
    "cat_cols = [\"admission_type\", 'gender', 'ethnicity', # 'marital_status', \"insurance\", \"language\",\n",
    "            \"electivesurgery\", \"vent\",\n",
    "#             'vasopressor', 'milrinone', 'furosemide',  # 升压药、强心剂、利尿剂\n",
    "            'activity','fall_risk',\n",
    "#             'braden_nutrition', 'braden_mobility', 'braden_activity',\n",
    "#             'lll_lung_sounds','lul_lung_sounds','rll_lung_sounds', 'rul_lung_sounds'\n",
    "           ]\n",
    "\n",
    "numerical_cols = [\"pre_icu_los_day\",'age','weight', #'spo2_fio2_ratio',\n",
    "                  'bmi', 'creatinine_max', 'bilirubin_max',\n",
    "                  'platelet_min', 'bun_max', 'wbc_max', 'glucose_max',\n",
    "                  'hematocrit_max', 'potassium_max', 'sodium_max', 'bicarbonate_min', 'bicarbonate_max',\n",
    "                  'pao2fio2ratio_vent', 'albumin_min', 'alt_max', 'ast_max', 'alp_max', 'pt_max',\n",
    "                  'ptt_max', 'inr_min', 'hemoglobin_min', 'chloride_min', 'pao2_min', 'paco2_max', 'lactate_max',\n",
    "                  'baseexcess_min', 'fio2_max', 'troponin_max', 'lymphocytes_max', 'lymphocytes_min', 'neutrophils_min',\n",
    "                  'magnesium_max','aniongap_max', 'gcs_min',\n",
    "                  'urineoutput', 'spo2_min', 'heart_rate_mean', 'mbp_mean',\n",
    "                  'sbp_mean', 'resp_rate_mean', 'temperature_mean',\n",
    "                  'cci_score',\n",
    "                ]\n",
    "\n",
    "tabular_cols = cat_cols + numerical_cols"
   ]
  },
  {
   "cell_type": "code",
   "execution_count": 8,
   "metadata": {},
   "outputs": [],
   "source": [
    "X_train = df_train.loc[:, tabular_cols]\n",
    "X_val = df_val.loc[:, tabular_cols]\n",
    "X_test = df_test.loc[:, tabular_cols]\n",
    "\n",
    "y_train = df_train['death_hosp']\n",
    "y_val = df_val['death_hosp']\n",
    "y_test = df_test['death_hosp']"
   ]
  },
  {
   "cell_type": "code",
   "execution_count": 9,
   "metadata": {},
   "outputs": [
    {
     "data": {
      "text/plain": [
       "0    7750\n",
       "1    1228\n",
       "Name: death_hosp, dtype: int64"
      ]
     },
     "execution_count": 9,
     "metadata": {},
     "output_type": "execute_result"
    }
   ],
   "source": [
    "y_train.value_counts()"
   ]
  },
  {
   "cell_type": "code",
   "execution_count": 11,
   "metadata": {},
   "outputs": [
    {
     "data": {
      "text/plain": [
       "0    969\n",
       "1    154\n",
       "Name: death_hosp, dtype: int64"
      ]
     },
     "execution_count": 11,
     "metadata": {},
     "output_type": "execute_result"
    }
   ],
   "source": [
    "y_val.value_counts()"
   ]
  },
  {
   "cell_type": "code",
   "execution_count": 10,
   "metadata": {},
   "outputs": [
    {
     "data": {
      "text/plain": [
       "0    969\n",
       "1    153\n",
       "Name: death_hosp, dtype: int64"
      ]
     },
     "execution_count": 10,
     "metadata": {},
     "output_type": "execute_result"
    }
   ],
   "source": [
    "y_test.value_counts()"
   ]
  },
  {
   "cell_type": "markdown",
   "metadata": {},
   "source": [
    "# Tabular to Image"
   ]
  },
  {
   "cell_type": "code",
   "execution_count": 9,
   "metadata": {},
   "outputs": [
    {
     "name": "stderr",
     "output_type": "stream",
     "text": [
      "E:\\Program_Files\\Anaconda\\lib\\site-packages\\sklearn\\manifold\\_t_sne.py:827: FutureWarning: 'square_distances' has been introduced in 0.24 to help phase out legacy squaring behavior. The 'legacy' setting will be removed in 1.1 (renaming of 0.26), and the default setting will be changed to True. In 1.3, 'square_distances' will be removed altogether, and distances will be squared by default. Set 'square_distances'=True to silence this warning.\n",
      "  FutureWarning,\n"
     ]
    },
    {
     "data": {
      "image/png": "[encoded data removed]",
      "text/plain": [
       "<Figure size 864x288 with 3 Axes>"
      ]
     },
     "metadata": {
      "needs_background": "light"
     },
     "output_type": "display_data"
    }
   ],
   "source": [
    "# Normalize data using LogScaler\n",
    "ln = Norm2Scaler()\n",
    "X_train_norm = ln.fit_transform(X_train)\n",
    "X_val_norm = ln.transform(X_val)\n",
    "X_test_norm = ln.transform(X_test)\n",
    "\n",
    "# Create t-SNE object\n",
    "distance_metric = 'cosine'\n",
    "reducer = TSNE(\n",
    "    n_components=2,\n",
    "    metric=distance_metric,\n",
    "    init='random',\n",
    "    learning_rate='auto',\n",
    "    n_jobs=-1,\n",
    "    random_state=seed_val\n",
    ")\n",
    "\n",
    "# Initialize image transformer\n",
    "pixel_size = ( 8, 8)\n",
    "it = ImageTransformer(\n",
    "    feature_extractor=reducer, \n",
    "#     feature_extractor='pca',\n",
    "    pixels=pixel_size)\n",
    "\n",
    "it.fit(X_train, y=y_train, plot=True)\n",
    "X_train_img = it.transform(X_train_norm)\n",
    "X_val_img = it.transform(X_val_norm)\n",
    "X_test_img = it.transform(X_test_norm)"
   ]
  },
  {
   "cell_type": "code",
   "execution_count": 10,
   "metadata": {},
   "outputs": [],
   "source": [
    "preprocess = transforms.Compose([\n",
    "    transforms.ToTensor()\n",
    "])"
   ]
  },
  {
   "cell_type": "code",
   "execution_count": 11,
   "metadata": {},
   "outputs": [],
   "source": [
    "train_img = torch.stack([preprocess(img) for img in X_train_img]).float()\n",
    "val_img = torch.stack([preprocess(img) for img in X_val_img]).float()\n",
    "test_img = torch.stack([preprocess(img) for img in X_test_img]).float()"
   ]
  },
  {
   "cell_type": "markdown",
   "metadata": {},
   "source": [
    "# Make dataset"
   ]
  },
  {
   "cell_type": "code",
   "execution_count": 12,
   "metadata": {},
   "outputs": [],
   "source": [
    "def loadData(prep_df, batch_size, num_workers, sampler):\n",
    "    \n",
    "    return  DataLoader(\n",
    "            prep_df,\n",
    "            batch_size=batch_size,\n",
    "            num_workers=num_workers,\n",
    "            sampler=sampler,\n",
    "            pin_memory=True\n",
    "        )\n",
    "\n",
    "train_cat = torch.tensor(np.array(df_train.loc[:, cat_cols],dtype=np.int32))\n",
    "train_num = torch.tensor(np.array(df_train.loc[:, numerical_cols],dtype=np.float32))\n",
    "train_y = torch.tensor(df_train.death_hosp.astype(int).tolist())\n",
    "\n",
    "val_cat = torch.tensor(np.array(df_val.loc[:, cat_cols],dtype=np.int32))\n",
    "val_num = torch.tensor(np.array(df_val.loc[:, numerical_cols],dtype=np.float32))\n",
    "val_y = torch.tensor(df_val.death_hosp.astype(int).tolist())\n",
    "\n",
    "test_cat = torch.tensor(np.array(df_test.loc[:, cat_cols],dtype=np.int32))\n",
    "test_num = torch.tensor(np.array(df_test.loc[:, numerical_cols],dtype=np.float32))\n",
    "test_y = torch.tensor(df_test.death_hosp.astype(int).tolist())"
   ]
  },
  {
   "cell_type": "code",
   "execution_count": 13,
   "metadata": {},
   "outputs": [],
   "source": [
    "# wrap tensors\n",
    "train_data = TensorDataset(train_cat, train_num, train_img, train_y)\n",
    "# sampler for sampling the data during training\n",
    "train_sampler = RandomSampler(train_data)\n",
    "# Train Data Loader\n",
    "traindata = loadData(train_data, batch_size, num_workers, train_sampler)\n",
    "\n",
    "# wrap tensors\n",
    "val_data = TensorDataset(val_cat, val_num, val_img, val_y)\n",
    "# sampler for sampling the data during training\n",
    "val_sampler = SequentialSampler(val_data)\n",
    "# Val Data Loader\n",
    "valdata = loadData(val_data, batch_size, num_workers, val_sampler)\n",
    "\n",
    "# wrap tensors\n",
    "test_data = TensorDataset(test_cat, test_num, test_img, test_y)\n",
    "# sampler for sampling the data during training\n",
    "test_sampler = SequentialSampler(test_data)\n",
    "# Val Data Loader\n",
    "testdata = loadData(test_data, batch_size, num_workers, test_sampler)"
   ]
  },
  {
   "cell_type": "code",
   "execution_count": 14,
   "metadata": {},
   "outputs": [
    {
     "name": "stdout",
     "output_type": "stream",
     "text": [
      "Number of data in the train set 141\n",
      "Number of data in the validation set 18\n",
      "Number of data in the test set 18\n"
     ]
    }
   ],
   "source": [
    "print('Number of data in the train set', len(traindata))\n",
    "print('Number of data in the validation set', len(valdata))\n",
    "print('Number of data in the test set', len(testdata))"
   ]
  },
  {
   "cell_type": "markdown",
   "metadata": {},
   "source": [
    "# Load model"
   ]
  },
  {
   "cell_type": "code",
   "execution_count": 15,
   "metadata": {},
   "outputs": [
    {
     "name": "stderr",
     "output_type": "stream",
     "text": [
      "E:\\Program_Files\\Anaconda\\lib\\site-packages\\torchvision\\models\\_utils.py:209: UserWarning: The parameter 'pretrained' is deprecated since 0.13 and may be removed in the future, please use 'weights' instead.\n",
      "  f\"The parameter '{pretrained_param}' is deprecated since 0.13 and may be removed in the future, \"\n",
      "E:\\Program_Files\\Anaconda\\lib\\site-packages\\torchvision\\models\\_utils.py:223: UserWarning: Arguments other than a weight enum or `None` for 'weights' are deprecated since 0.13 and may be removed in the future. The current behavior is equivalent to passing `weights=ResNet18_Weights.IMAGENET1K_V1`. You can also use `weights=ResNet18_Weights.DEFAULT` to get the most up-to-date weights.\n",
      "  warnings.warn(msg)\n"
     ]
    }
   ],
   "source": [
    "model = mm_tab(categories = (2,2,2,2,2,2,2),      # tuple containing the number of unique values within each category\n",
    "                        num_continuous = 45,                # number of continuous values\n",
    "                        dim = 16,                           # dimension, paper set at 32\n",
    "                        dim_out = 1,                        # binary prediction, but could be anything\n",
    "                        depth = 1,                          # depth, paper recommended 6\n",
    "                        heads = 1,                          # heads, paper recommends 8\n",
    "                        attn_dropout = 0.1,                 # post-attention dropout\n",
    "                        ff_dropout = 0.1,                   # feed forward dropout\n",
    "                        mlp_hidden_mults = (4, 2),          # relative multiples of each hidden dimension of the last mlp to logits\n",
    "                      )\n",
    "model.to(device) # Model to GPU.\n",
    "\n",
    "optimizer = torch.optim.Adam(model.parameters(), lr=learning_rate)"
   ]
  },
  {
   "cell_type": "code",
   "execution_count": 16,
   "metadata": {},
   "outputs": [],
   "source": [
    "def training_model(model, traindata, bceloss, optimizer, epochs=12):\n",
    "    # for each epoch perform training and evaluation\n",
    "    for epoch in range(epochs):\n",
    "        #train model\n",
    "        train_loss, _ = train_model(model, traindata, bceloss, optimizer)\n",
    "        \n",
    "def evaluate_models_with_auc(model, test_data, df_data):\n",
    "    preds = test_model(model, test_data)\n",
    "    \n",
    "    fpr, tpr, thresholds = roc_curve(df_data['death_hosp'], preds[0])\n",
    "    auc_score = auc(fpr, tpr)\n",
    "    return auc_score"
   ]
  },
  {
   "cell_type": "code",
   "execution_count": 17,
   "metadata": {},
   "outputs": [],
   "source": [
    "bceloss  = nn.BCELoss()"
   ]
  },
  {
   "cell_type": "code",
   "execution_count": 18,
   "metadata": {
    "scrolled": true
   },
   "outputs": [
    {
     "name": "stdout",
     "output_type": "stream",
     "text": [
      "\n",
      " Epoch 1 / 20\n",
      "Training...\n",
      "  Batch    50  of    141. loss 0.34308701753616333\n",
      "  Batch   100  of    141. loss 0.3415094017982483\n",
      "\n",
      "Evaluating...\n",
      "Evaluation done for epoch 1\n",
      "\n",
      "Training Loss: 0.394\n",
      "Validation Loss: 0.334\n",
      "\n",
      " Epoch 2 / 20\n",
      "Training...\n",
      "  Batch    50  of    141. loss 0.2838607430458069\n",
      "  Batch   100  of    141. loss 0.307162344455719\n",
      "\n",
      "Evaluating...\n",
      "Evaluation done for epoch 2\n",
      "\n",
      "Training Loss: 0.339\n",
      "Validation Loss: 0.327\n",
      "\n",
      " Epoch 3 / 20\n",
      "Training...\n",
      "  Batch    50  of    141. loss 0.3888273239135742\n",
      "  Batch   100  of    141. loss 0.3521885573863983\n",
      "\n",
      "Evaluating...\n",
      "Evaluation done for epoch 3\n",
      "\n",
      "Training Loss: 0.322\n",
      "Validation Loss: 0.332\n",
      "\n",
      " Epoch 4 / 20\n",
      "Training...\n",
      "  Batch    50  of    141. loss 0.36541152000427246\n",
      "  Batch   100  of    141. loss 0.31484323740005493\n",
      "\n",
      "Evaluating...\n",
      "Evaluation done for epoch 4\n",
      "\n",
      "Training Loss: 0.322\n",
      "Validation Loss: 0.339\n",
      "\n",
      " Epoch 5 / 20\n",
      "Training...\n",
      "  Batch    50  of    141. loss 0.3608342111110687\n",
      "  Batch   100  of    141. loss 0.25536030530929565\n",
      "\n",
      "Evaluating...\n",
      "Evaluation done for epoch 5\n",
      "\n",
      "Training Loss: 0.317\n",
      "Validation Loss: 0.339\n",
      "\n",
      " Epoch 6 / 20\n",
      "Training...\n",
      "  Batch    50  of    141. loss 0.33141565322875977\n",
      "  Batch   100  of    141. loss 0.22397512197494507\n",
      "\n",
      "Evaluating...\n",
      "Evaluation done for epoch 6\n",
      "\n",
      "Training Loss: 0.325\n",
      "Validation Loss: 0.329\n",
      "\n",
      " Epoch 7 / 20\n",
      "Training...\n",
      "  Batch    50  of    141. loss 0.29492253065109253\n",
      "  Batch   100  of    141. loss 0.24786287546157837\n",
      "\n",
      "Evaluating...\n",
      "Evaluation done for epoch 7\n",
      "\n",
      "Training Loss: 0.312\n",
      "Validation Loss: 0.330\n",
      "\n",
      " Epoch 8 / 20\n",
      "Training...\n",
      "  Batch    50  of    141. loss 0.34848159551620483\n",
      "  Batch   100  of    141. loss 0.24682945013046265\n",
      "\n",
      "Evaluating...\n",
      "Evaluation done for epoch 8\n",
      "\n",
      "Training Loss: 0.317\n",
      "Validation Loss: 0.341\n",
      "\n",
      " Epoch 9 / 20\n",
      "Training...\n",
      "  Batch    50  of    141. loss 0.2593725621700287\n",
      "  Batch   100  of    141. loss 0.3069525957107544\n",
      "\n",
      "Evaluating...\n",
      "Evaluation done for epoch 9\n",
      "\n",
      "Training Loss: 0.320\n",
      "Validation Loss: 0.338\n",
      "\n",
      " Epoch 10 / 20\n",
      "Training...\n",
      "  Batch    50  of    141. loss 0.2657564580440521\n",
      "  Batch   100  of    141. loss 0.3913659155368805\n",
      "\n",
      "Evaluating...\n",
      "Evaluation done for epoch 10\n",
      "\n",
      "Training Loss: 0.310\n",
      "Validation Loss: 0.333\n",
      "\n",
      " Epoch 11 / 20\n",
      "Training...\n",
      "  Batch    50  of    141. loss 0.2862686514854431\n",
      "  Batch   100  of    141. loss 0.286160945892334\n",
      "\n",
      "Evaluating...\n",
      "Evaluation done for epoch 11\n",
      "\n",
      "Training Loss: 0.316\n",
      "Validation Loss: 0.342\n",
      "\n",
      " Epoch 12 / 20\n",
      "Training...\n",
      "  Batch    50  of    141. loss 0.3632144331932068\n",
      "  Batch   100  of    141. loss 0.4641600549221039\n",
      "\n",
      "Evaluating...\n",
      "Evaluation done for epoch 12\n",
      "\n",
      "Training Loss: 0.306\n",
      "Validation Loss: 0.363\n",
      "\n",
      " Epoch 13 / 20\n",
      "Training...\n",
      "  Batch    50  of    141. loss 0.22156840562820435\n",
      "  Batch   100  of    141. loss 0.18658944964408875\n",
      "\n",
      "Evaluating...\n",
      "Evaluation done for epoch 13\n",
      "\n",
      "Training Loss: 0.299\n",
      "Validation Loss: 0.334\n",
      "\n",
      " Epoch 14 / 20\n",
      "Training...\n",
      "  Batch    50  of    141. loss 0.3728159964084625\n",
      "  Batch   100  of    141. loss 0.23104852437973022\n",
      "\n",
      "Evaluating...\n",
      "Evaluation done for epoch 14\n",
      "\n",
      "Training Loss: 0.295\n",
      "Validation Loss: 0.360\n",
      "\n",
      " Epoch 15 / 20\n",
      "Training...\n",
      "  Batch    50  of    141. loss 0.23163215816020966\n",
      "  Batch   100  of    141. loss 0.2942187786102295\n",
      "\n",
      "Evaluating...\n",
      "Evaluation done for epoch 15\n",
      "\n",
      "Training Loss: 0.295\n",
      "Validation Loss: 0.388\n",
      "\n",
      " Epoch 16 / 20\n",
      "Training...\n",
      "  Batch    50  of    141. loss 0.30100786685943604\n",
      "  Batch   100  of    141. loss 0.3256511688232422\n",
      "\n",
      "Evaluating...\n",
      "Evaluation done for epoch 16\n",
      "\n",
      "Training Loss: 0.301\n",
      "Validation Loss: 0.333\n",
      "\n",
      " Epoch 17 / 20\n",
      "Training...\n",
      "  Batch    50  of    141. loss 0.32626500725746155\n",
      "  Batch   100  of    141. loss 0.2097707837820053\n",
      "\n",
      "Evaluating...\n",
      "Evaluation done for epoch 17\n",
      "\n",
      "Training Loss: 0.289\n",
      "Validation Loss: 0.343\n",
      "\n",
      " Epoch 18 / 20\n",
      "Training...\n",
      "  Batch    50  of    141. loss 0.2447229027748108\n",
      "  Batch   100  of    141. loss 0.3362886607646942\n",
      "\n",
      "Evaluating...\n",
      "Evaluation done for epoch 18\n",
      "\n",
      "Training Loss: 0.289\n",
      "Validation Loss: 0.439\n",
      "\n",
      " Epoch 19 / 20\n",
      "Training...\n",
      "  Batch    50  of    141. loss 0.2088138610124588\n",
      "  Batch   100  of    141. loss 0.32562243938446045\n",
      "\n",
      "Evaluating...\n",
      "Evaluation done for epoch 19\n",
      "\n",
      "Training Loss: 0.289\n",
      "Validation Loss: 0.502\n",
      "\n",
      " Epoch 20 / 20\n",
      "Training...\n",
      "  Batch    50  of    141. loss 0.21988901495933533\n",
      "  Batch   100  of    141. loss 0.1625244915485382\n",
      "\n",
      "Evaluating...\n",
      "Evaluation done for epoch 20\n",
      "\n",
      "Training Loss: 0.303\n",
      "Validation Loss: 0.338\n"
     ]
    }
   ],
   "source": [
    "# set initial loss to infinite\n",
    "best_valid_loss = float('inf')\n",
    "\n",
    "# Empty lists to store training and validation loss of each epoch\n",
    "train_losses=[]\n",
    "valid_losses=[]\n",
    "\n",
    "# for each epoch perform training and evaluation\n",
    "for epoch in range(epochs):\n",
    "     \n",
    "    print('\\n Epoch {:} / {:}'.format(epoch + 1, epochs))\n",
    "    \n",
    "    #train model\n",
    "    train_loss, _ = train_model(model, traindata, bceloss, optimizer)\n",
    "    \n",
    "    #evaluate model\n",
    "    valid_loss, _ = evaluate_model(model, valdata, bceloss)\n",
    "    \n",
    "    print('Evaluation done for epoch {}'.format(epoch + 1))\n",
    "    \n",
    "    # append training and validation loss\n",
    "    train_losses.append(train_loss)\n",
    "    valid_losses.append(valid_loss)\n",
    "    \n",
    "    print(f'\\nTraining Loss: {train_loss:.3f}')\n",
    "    print(f'Validation Loss: {valid_loss:.3f}')"
   ]
  },
  {
   "cell_type": "code",
   "execution_count": 19,
   "metadata": {},
   "outputs": [
    {
     "name": "stdout",
     "output_type": "stream",
     "text": [
      "\n",
      "Test Set...\n",
      "Total batches: 18\n",
      "Batch 18\n",
      "Prediction complete.\n"
     ]
    }
   ],
   "source": [
    "preds = test_model(model, testdata)"
   ]
  },
  {
   "cell_type": "code",
   "execution_count": 20,
   "metadata": {},
   "outputs": [
    {
     "data": {
      "image/png": "[encoded data removed]",
      "text/plain": [
       "<Figure size 432x288 with 1 Axes>"
      ]
     },
     "metadata": {
      "needs_background": "light"
     },
     "output_type": "display_data"
    }
   ],
   "source": [
    "plot_result(df_test['death_hosp'], preds[0])"
   ]
  },
  {
   "cell_type": "markdown",
   "metadata": {},
   "source": [
    "# 外部验证"
   ]
  },
  {
   "cell_type": "code",
   "execution_count": 12,
   "metadata": {},
   "outputs": [],
   "source": [
    "df_external = pd.read_csv(file_path + 'external.csv')\n",
    "df_temporal = pd.read_csv(file_path + 'mimiciv_temporal_data_preprocess.csv')"
   ]
  },
  {
   "cell_type": "code",
   "execution_count": 13,
   "metadata": {},
   "outputs": [],
   "source": [
    "X_external = df_external.loc[:, tabular_cols]\n",
    "X_temporal = df_temporal.loc[:, tabular_cols]\n",
    "\n",
    "y_external = df_external['death_hosp']\n",
    "y_temporal = df_temporal['death_hosp']"
   ]
  },
  {
   "cell_type": "code",
   "execution_count": 14,
   "metadata": {},
   "outputs": [
    {
     "data": {
      "text/plain": [
       "0    1603\n",
       "1     293\n",
       "Name: death_hosp, dtype: int64"
      ]
     },
     "execution_count": 14,
     "metadata": {},
     "output_type": "execute_result"
    }
   ],
   "source": [
    "y_temporal.value_counts()"
   ]
  },
  {
   "cell_type": "code",
   "execution_count": 23,
   "metadata": {},
   "outputs": [],
   "source": [
    "X_external_norm = ln.fit_transform(X_external)\n",
    "X_temporal_norm = ln.transform(X_temporal)\n",
    "\n",
    "X_external_img = it.transform(X_external_norm)\n",
    "X_temporal_img = it.transform(X_temporal_norm)"
   ]
  },
  {
   "cell_type": "code",
   "execution_count": 24,
   "metadata": {},
   "outputs": [],
   "source": [
    "external_img = torch.stack([preprocess(img) for img in X_external_img]).float()\n",
    "temporal_img = torch.stack([preprocess(img) for img in X_temporal_img]).float()"
   ]
  },
  {
   "cell_type": "code",
   "execution_count": 25,
   "metadata": {},
   "outputs": [
    {
     "name": "stdout",
     "output_type": "stream",
     "text": [
      "Number of data in the external set 80\n",
      "Number of data in the temporal set 30\n"
     ]
    }
   ],
   "source": [
    "external_cat = torch.tensor(np.array(df_external.loc[:, cat_cols],dtype=np.int32))\n",
    "external_num = torch.tensor(np.array(df_external.loc[:, numerical_cols],dtype=np.float32))\n",
    "external_y = torch.tensor(df_external.death_hosp.astype(int).tolist())\n",
    "\n",
    "\n",
    "temporal_cat = torch.tensor(np.array(df_temporal.loc[:, cat_cols],dtype=np.int32))\n",
    "temporal_num = torch.tensor(np.array(df_temporal.loc[:, numerical_cols],dtype=np.float32))\n",
    "temporal_y = torch.tensor(df_temporal.death_hosp.astype(int).tolist())\n",
    "\n",
    "# wrap tensors\n",
    "external_data = TensorDataset(external_cat, external_num, external_img, external_y)\n",
    "# sampler for sampling the data during training\n",
    "external_sampler = SequentialSampler(external_data)\n",
    "# Val Data Loader\n",
    "externaldata = loadData(external_data, batch_size, num_workers, external_sampler)\n",
    "\n",
    "# wrap tensors\n",
    "temporal_data = TensorDataset(temporal_cat, temporal_num, temporal_img, temporal_y)\n",
    "# sampler for sampling the data during training\n",
    "temporal_sampler = SequentialSampler(temporal_data)\n",
    "# Val Data Loader\n",
    "temporaldata = loadData(temporal_data, batch_size, num_workers, temporal_sampler)\n",
    "\n",
    "print('Number of data in the external set', len(externaldata))\n",
    "print('Number of data in the temporal set', len(temporaldata))"
   ]
  },
  {
   "cell_type": "code",
   "execution_count": 26,
   "metadata": {},
   "outputs": [
    {
     "name": "stdout",
     "output_type": "stream",
     "text": [
      "\n",
      "Test Set...\n",
      "Total batches: 30\n",
      "Batch 30\n",
      "Prediction complete.\n"
     ]
    }
   ],
   "source": [
    "temporalpreds = test_model(model, temporaldata)"
   ]
  },
  {
   "cell_type": "code",
   "execution_count": 27,
   "metadata": {},
   "outputs": [],
   "source": [
    "temporal_results = {'preds':temporalpreds[0].reshape(-1),\n",
    "                   'death_hosp':np.array(df_temporal['death_hosp'])}\n",
    "\n",
    "df_temporal_results = pd.DataFrame(temporal_results).dropna()"
   ]
  },
  {
   "cell_type": "code",
   "execution_count": 28,
   "metadata": {},
   "outputs": [
    {
     "data": {
      "image/png": "[encoded data removed]",
      "text/plain": [
       "<Figure size 432x288 with 1 Axes>"
      ]
     },
     "metadata": {
      "needs_background": "light"
     },
     "output_type": "display_data"
    }
   ],
   "source": [
    "plot_result(df_temporal_results['death_hosp'], df_temporal_results['preds'])"
   ]
  },
  {
   "cell_type": "code",
   "execution_count": 29,
   "metadata": {},
   "outputs": [
    {
     "name": "stdout",
     "output_type": "stream",
     "text": [
      "\n",
      "Test Set...\n",
      "Total batches: 80\n",
      "Batch 80\n",
      "Prediction complete.\n"
     ]
    },
    {
     "data": {
      "image/png": "[encoded data removed]",
      "text/plain": [
       "<Figure size 432x288 with 1 Axes>"
      ]
     },
     "metadata": {
      "needs_background": "light"
     },
     "output_type": "display_data"
    }
   ],
   "source": [
    "externalpreds = test_model(model, externaldata)\n",
    "plot_result(df_external['death_hosp'], externalpreds[0])"
   ]
  },
  {
   "cell_type": "code",
   "execution_count": 30,
   "metadata": {},
   "outputs": [],
   "source": [
    "\n",
    "# torch.save(model.state_dict(), \"final_model_compare_param.pth\")"
   ]
  },
  {
   "cell_type": "code",
   "execution_count": null,
   "metadata": {},
   "outputs": [],
   "source": []
  }
 ],
 "metadata": {
  "kernelspec": {
   "display_name": "Python 3",
   "language": "python",
   "name": "python3"
  },
  "language_info": {
   "codemirror_mode": {
    "name": "ipython",
    "version": 3
   },
   "file_extension": ".py",
   "mimetype": "text/x-python",
   "name": "python",
   "nbconvert_exporter": "python",
   "pygments_lexer": "ipython3",
   "version": "3.7.4"
  }
 },
 "nbformat": 4,
 "nbformat_minor": 2
}
