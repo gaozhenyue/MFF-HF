{
 "cells": [
  {
   "cell_type": "code",
   "execution_count": 1,
   "metadata": {},
   "outputs": [],
   "source": [
    "import pandas as pd\n",
    "import torch#深度学习的pytoch平台\n",
    "import torch.nn as nn\n",
    "import numpy as np\n",
    "import random\n",
    "import time#可以用来简单地记录时间\n",
    "import matplotlib.pyplot as plt#画图\n",
    "from sklearn.metrics import roc_auc_score, precision_recall_curve, roc_curve, auc\n",
    "\n",
    "from torch import Tensor\n",
    "from torch import nn, optim\n",
    "from torch.utils.data import TensorDataset, DataLoader, RandomSampler, SequentialSampler"
   ]
  },
  {
   "cell_type": "code",
   "execution_count": 2,
   "metadata": {},
   "outputs": [],
   "source": [
    "from pyDeepInsight import ImageTransformer\n",
    "from pyDeepInsight.utils import Norm2Scaler\n",
    "from sklearn.model_selection import train_test_split\n",
    "from sklearn.preprocessing import LabelEncoder\n",
    "from sklearn.manifold import TSNE\n",
    "import pandas as pd\n",
    "import numpy as np"
   ]
  },
  {
   "cell_type": "code",
   "execution_count": 3,
   "metadata": {},
   "outputs": [],
   "source": [
    "file_path = '../datasets/mimic/'\n",
    "df_train = pd.read_csv(file_path + 'train.csv')\n",
    "df_test = pd.read_csv(file_path + 'test.csv')\n",
    "df_val = pd.read_csv(file_path + 'val.csv')"
   ]
  },
  {
   "cell_type": "code",
   "execution_count": 4,
   "metadata": {},
   "outputs": [
    {
     "data": {
      "text/plain": [
       "(array([0, 1], dtype=int64), array([7750, 1228], dtype=int64))"
      ]
     },
     "execution_count": 4,
     "metadata": {},
     "output_type": "execute_result"
    }
   ],
   "source": [
    "np.unique(df_train['death_hosp'], return_counts=True)"
   ]
  },
  {
   "cell_type": "code",
   "execution_count": 5,
   "metadata": {},
   "outputs": [],
   "source": [
    "cat_cols = [\"admission_type\", 'gender', 'ethnicity', # 'marital_status', \"insurance\", \"language\",\n",
    "            \"electivesurgery\", \"vent\",\n",
    "#             'vasopressor', 'milrinone', 'furosemide',  # 升压药、强心剂、利尿剂\n",
    "            'activity','fall_risk',\n",
    "#             'braden_nutrition', 'braden_mobility', 'braden_activity',\n",
    "#             'lll_lung_sounds','lul_lung_sounds','rll_lung_sounds', 'rul_lung_sounds'\n",
    "           ]\n",
    "\n",
    "numerical_cols = [\"pre_icu_los_day\",'age','weight', #'spo2_fio2_ratio',\n",
    "                  'bmi', 'creatinine_max', 'bilirubin_max',\n",
    "                  'platelet_min', 'bun_max', 'wbc_max', 'glucose_max',\n",
    "                  'hematocrit_max', 'potassium_max', 'sodium_max', 'bicarbonate_min', 'bicarbonate_max',\n",
    "                  'pao2fio2ratio_vent', 'albumin_min', 'alt_max', 'ast_max', 'alp_max', 'pt_max',\n",
    "                  'ptt_max', 'inr_min', 'hemoglobin_min', 'chloride_min', 'pao2_min', 'paco2_max', 'lactate_max',\n",
    "                  'baseexcess_min', 'fio2_max', 'troponin_max', 'lymphocytes_max', 'lymphocytes_min', 'neutrophils_min',\n",
    "                  'magnesium_max','aniongap_max', 'gcs_min',\n",
    "                  'urineoutput', 'spo2_min', 'heart_rate_mean', 'mbp_mean',\n",
    "                  'sbp_mean', 'resp_rate_mean', 'temperature_mean',\n",
    "                  'cci_score',\n",
    "                ]\n",
    "\n",
    "tabular_cols = cat_cols + numerical_cols"
   ]
  },
  {
   "cell_type": "code",
   "execution_count": 6,
   "metadata": {},
   "outputs": [],
   "source": [
    "X_train = df_train.loc[:, tabular_cols]\n",
    "X_val = df_val.loc[:, tabular_cols]\n",
    "X_test = df_test.loc[:, tabular_cols]\n",
    "\n",
    "y_train = df_train['death_hosp']\n",
    "y_val = df_val['death_hosp']\n",
    "y_test = df_test['death_hosp']"
   ]
  },
  {
   "cell_type": "markdown",
   "metadata": {},
   "source": [
    "# Normalize data using LogScaler"
   ]
  },
  {
   "cell_type": "code",
   "execution_count": 7,
   "metadata": {},
   "outputs": [],
   "source": [
    "ln = Norm2Scaler()\n",
    "X_train_norm = ln.fit_transform(X_train)\n",
    "X_val_norm = ln.transform(X_val)\n",
    "X_test_norm = ln.transform(X_test)"
   ]
  },
  {
   "cell_type": "markdown",
   "metadata": {},
   "source": [
    "# Create t-SNE object"
   ]
  },
  {
   "cell_type": "code",
   "execution_count": 8,
   "metadata": {},
   "outputs": [],
   "source": [
    "distance_metric = 'cosine'\n",
    "reducer = TSNE(\n",
    "    n_components=2,\n",
    "    metric=distance_metric,\n",
    "    init='random',\n",
    "    learning_rate='auto',\n",
    "    n_jobs=-1\n",
    ")"
   ]
  },
  {
   "cell_type": "markdown",
   "metadata": {},
   "source": [
    "Initialize image transformer"
   ]
  },
  {
   "cell_type": "code",
   "execution_count": 9,
   "metadata": {},
   "outputs": [],
   "source": [
    "pixel_size = ( 8, 8)\n",
    "it = ImageTransformer(\n",
    "    feature_extractor=reducer, \n",
    "#     feature_extractor='pca',\n",
    "    pixels=pixel_size)"
   ]
  },
  {
   "cell_type": "markdown",
   "metadata": {},
   "source": [
    "Train image transformer on training data and transform training and testing sets. Values should be between 0 and 1."
   ]
  },
  {
   "cell_type": "code",
   "execution_count": 10,
   "metadata": {},
   "outputs": [
    {
     "name": "stderr",
     "output_type": "stream",
     "text": [
      "E:\\Program_Files\\Anaconda\\lib\\site-packages\\sklearn\\manifold\\_t_sne.py:827: FutureWarning: 'square_distances' has been introduced in 0.24 to help phase out legacy squaring behavior. The 'legacy' setting will be removed in 1.1 (renaming of 0.26), and the default setting will be changed to True. In 1.3, 'square_distances' will be removed altogether, and distances will be squared by default. Set 'square_distances'=True to silence this warning.\n",
      "  FutureWarning,\n"
     ]
    },
    {
     "data": {
      "image/png": "[encoded data removed]",
      "text/plain": [
       "<Figure size 864x288 with 3 Axes>"
      ]
     },
     "metadata": {
      "needs_background": "light"
     },
     "output_type": "display_data"
    }
   ],
   "source": [
    "it.fit(X_train, y=y_train, plot=True)\n",
    "X_train_img = it.transform(X_train_norm)\n",
    "X_val_img = it.transform(X_val_norm)\n",
    "X_test_img = it.transform(X_test_norm)"
   ]
  },
  {
   "cell_type": "markdown",
   "metadata": {},
   "source": [
    "The feature density matrix can be extracted from the trained transformer in order to view overall feature overlap"
   ]
  },
  {
   "cell_type": "code",
   "execution_count": 11,
   "metadata": {},
   "outputs": [
    {
     "data": {
      "image/png": "[encoded data removed]",
      "text/plain": [
       "<Figure size 720x540 with 2 Axes>"
      ]
     },
     "metadata": {
      "needs_background": "light"
     },
     "output_type": "display_data"
    }
   ],
   "source": [
    "import matplotlib.pyplot as plt\n",
    "import matplotlib.ticker as ticker\n",
    "import seaborn as sns\n",
    "\n",
    "fdm = it.feature_density_matrix()\n",
    "fdm[fdm == 0] = np.nan\n",
    "\n",
    "plt.figure(figsize=(10, 7.5))\n",
    "\n",
    "ax = sns.heatmap(fdm, cmap=\"viridis\", linewidths=0., \n",
    "                 linecolor=\"lightgrey\", square=True)\n",
    "ax.xaxis.set_major_locator(ticker.MultipleLocator(5))\n",
    "ax.yaxis.set_major_locator(ticker.MultipleLocator(5))\n",
    "for _, spine in ax.spines.items():\n",
    "    spine.set_visible(True)\n",
    "_ = plt.title(\"Genes per pixel\")"
   ]
  },
  {
   "cell_type": "markdown",
   "metadata": {},
   "source": [
    "The following are showing plots for the image matrices first four samples of the training set"
   ]
  },
  {
   "cell_type": "code",
   "execution_count": 12,
   "metadata": {},
   "outputs": [
    {
     "data": {
      "image/png": "[encoded data removed]",
      "text/plain": [
       "<Figure size 1080x360 with 3 Axes>"
      ]
     },
     "metadata": {
      "needs_background": "light"
     },
     "output_type": "display_data"
    }
   ],
   "source": [
    "fig, ax = plt.subplots(1, 3, figsize=(15, 5))\n",
    "for i in range(0,3):\n",
    "    ax[i].imshow(X_train_img[i])\n",
    "    ax[i].title.set_text(f\"Train[{i}] - class '{y_train[i]}'\")\n",
    "plt.tight_layout()"
   ]
  },
  {
   "cell_type": "code",
   "execution_count": 13,
   "metadata": {},
   "outputs": [
    {
     "data": {
      "image/png": "[encoded data removed]",
      "text/plain": [
       "<Figure size 1080x360 with 3 Axes>"
      ]
     },
     "metadata": {
      "needs_background": "light"
     },
     "output_type": "display_data"
    }
   ],
   "source": [
    "X_test_img = it.transform(X_test_norm)\n",
    "\n",
    "fig, ax = plt.subplots(1, 3, figsize=(15, 5))\n",
    "for i in range(0,3):\n",
    "    ax[i].imshow(X_test_img[i])\n",
    "    ax[i].title.set_text(f\"Test[{i}] - class '{y_test[i]}'\")\n",
    "plt.tight_layout()"
   ]
  },
  {
   "cell_type": "markdown",
   "metadata": {},
   "source": [
    "# SqueezeNet"
   ]
  },
  {
   "cell_type": "code",
   "execution_count": 14,
   "metadata": {},
   "outputs": [],
   "source": [
    "import torch\n",
    "import torchvision\n",
    "import torchvision.transforms as transforms\n",
    "from torch.utils.data import TensorDataset, DataLoader\n",
    "import torch.nn as nn\n",
    "import torch.optim as optim\n",
    "\n",
    "from sklearn.metrics import accuracy_score, ConfusionMatrixDisplay\n",
    "\n",
    "import warnings; \n",
    "warnings.simplefilter('ignore')"
   ]
  },
  {
   "cell_type": "code",
   "execution_count": 15,
   "metadata": {},
   "outputs": [
    {
     "data": {
      "text/plain": [
       "device(type='cuda')"
      ]
     },
     "execution_count": 15,
     "metadata": {},
     "output_type": "execute_result"
    }
   ],
   "source": [
    "device = torch.device('cuda' if torch.cuda.is_available() else 'cpu')\n",
    "device"
   ]
  },
  {
   "cell_type": "code",
   "execution_count": 16,
   "metadata": {},
   "outputs": [],
   "source": [
    "num_classes = 2\n",
    "# model = torchvision.models.squeezenet1_1(weights='DEFAULT')\n",
    "# model.classifier.append(nn.Flatten())\n",
    "# _ = model.classifier.append(nn.Linear(1000, num_classes))\n",
    "\n",
    "class CNN(nn.Module):\n",
    "    def __init__(self):\n",
    "        super(CNN,self).__init__()#先找到CNN的父类（比如是类A），然后把类CNN的对象self转换为类A的对象，然后“被转换”的类A对象调用类A对象自己的__init__函数.\n",
    "        self.conv1 =nn.Sequential(\n",
    "            #卷积+激活+池化\n",
    "            #过滤器  高度-filter 用于提取出卷积出来的特征的属性\n",
    "            #图片的维度是 (1，28，28)1是chanel的维度，28x28的长宽高\n",
    "            nn.Conv2d(\n",
    "                3, #in_channels=1图片的高度\n",
    "                16,#out_channels=16 多少个输出的高度(filter的个数)\n",
    "                3, #kernel_size=5，filter的高宽都是5个像素点\n",
    "                1, #stride=1，卷积步长\n",
    "                2, #padding=2填充，如果想输出的和输入的长宽一样则需要padding=(kernel_size-1)/2\n",
    "            ), #(16,28,28)\n",
    "            nn.ReLU(),\n",
    "            # 删选重要信息，参数(),kernel_size=2,把2x2的区域中选最大的值变成1x1 \n",
    "            nn.MaxPool2d(kernel_size=2),#(16,14,14)\n",
    "        )\n",
    "        #(16,14,14)\n",
    "        self.conv2=nn.Sequential(\n",
    "            nn.Conv2d(16,32,5,1,2),#(32,14,14)\n",
    "            nn.ReLU(),\n",
    "            #还可以用AvgPool3d，但一般用最大\n",
    "            nn.MaxPool2d(2),#(32,7,7)\n",
    "        )\n",
    "        #输出层 \n",
    "        self.out=nn.Linear(400,num_classes)#（a，b）a是数据维度 b是分类器有十个\n",
    "        \n",
    "    def forward(self,x):\n",
    "        x=self.conv1(x)\n",
    "#         x=self.conv2(x)        #(batch,32,7,7)\n",
    "        x=x.view(x.size(0),-1) #(batch,32*7*7)\n",
    "        \n",
    "        output =self.out(x)\n",
    "        output = torch.softmax(output, 1)\n",
    "        \n",
    "        return output"
   ]
  },
  {
   "cell_type": "code",
   "execution_count": 17,
   "metadata": {},
   "outputs": [],
   "source": [
    "import torchvision.models as models\n",
    "\n",
    "class resnet_18(nn.Module):\n",
    "    def __init__(self, num_classes=2):\n",
    "        super(resnet_18, self).__init__()\n",
    "        self.resnet18 = models.resnet18(pretrained=True)\n",
    "        self.resnet18.conv1 = nn.Conv2d(3, 64, kernel_size=(3,3), stride=(2,2), padding=(3,3), bias=False)\n",
    "        \n",
    "        num_ftrs = self.resnet18.fc.in_features\n",
    "        self.resnet18.fc = nn.Linear(num_ftrs, num_classes)\n",
    "        \n",
    "    def forward(self, x):\n",
    "        x = self.resnet18(x)\n",
    "        \n",
    "        \n",
    "        return x"
   ]
  },
  {
   "cell_type": "markdown",
   "metadata": {},
   "source": [
    "Transform numpy image format to PyTorch tensor. Using an untrained network, so normalization as specificed in SqueezeNet documentation is not required."
   ]
  },
  {
   "cell_type": "code",
   "execution_count": 18,
   "metadata": {},
   "outputs": [],
   "source": [
    "preprocess = transforms.Compose([\n",
    "    transforms.ToTensor()\n",
    "])"
   ]
  },
  {
   "cell_type": "code",
   "execution_count": 19,
   "metadata": {},
   "outputs": [],
   "source": [
    "X_train_tensor = torch.stack([preprocess(img) for img in X_train_img]).float()\n",
    "y_train_tensor = torch.from_numpy(np.array(y_train))\n",
    "\n",
    "X_test_tensor = torch.stack([preprocess(img) for img in X_test_img]).float()\n",
    "y_test_tensor = torch.from_numpy(np.array(y_test))"
   ]
  },
  {
   "cell_type": "code",
   "execution_count": 20,
   "metadata": {},
   "outputs": [],
   "source": [
    "batch_size = 64\n",
    "\n",
    "trainset = TensorDataset(X_train_tensor, y_train_tensor)\n",
    "trainloader = DataLoader(trainset, batch_size=batch_size, shuffle=True)\n",
    "\n",
    "testset = TensorDataset(X_test_tensor, y_test_tensor)\n",
    "testloader = DataLoader(testset, batch_size=batch_size, shuffle=False)"
   ]
  },
  {
   "cell_type": "code",
   "execution_count": 21,
   "metadata": {},
   "outputs": [],
   "source": [
    "# model = CNN()\n",
    "model = resnet_18()\n",
    "\n",
    "criterion = nn.CrossEntropyLoss()\n",
    "optimizer = optim.AdamW(\n",
    "    model.parameters(),\n",
    "    lr=1e-04,\n",
    "    #momentum=0.8,\n",
    "    weight_decay=1e-05\n",
    ")"
   ]
  },
  {
   "cell_type": "code",
   "execution_count": 22,
   "metadata": {},
   "outputs": [
    {
     "name": "stdout",
     "output_type": "stream",
     "text": [
      "[0] loss: 0.414\n",
      "[19] loss: 0.308\n"
     ]
    }
   ],
   "source": [
    "model.train()\n",
    "model.to(device)\n",
    "for epoch in range(20):\n",
    "\n",
    "    running_loss = 0.0\n",
    "    for i, data in enumerate(trainloader, 0):\n",
    "        # get the inputs; data is a list of [inputs, labels]\n",
    "        inputs, labels = data\n",
    "        inputs = inputs.to(device)\n",
    "        labels = labels.to(device)\n",
    "\n",
    "        outputs = model(inputs)\n",
    "        loss = criterion(outputs, labels)\n",
    "        \n",
    "        optimizer.zero_grad()\n",
    "        loss.backward()\n",
    "        optimizer.step()\n",
    "\n",
    "        running_loss += loss.item()\n",
    "    # print epoch statistics\n",
    "    if not (epoch % 20):\n",
    "        print(f'[{epoch}] loss: {running_loss / len(X_train_tensor) * batch_size:.3f}')\n",
    "print(f'[{epoch}] loss: {running_loss / len(X_train_tensor) * batch_size:.3f}')"
   ]
  },
  {
   "cell_type": "markdown",
   "metadata": {},
   "source": [
    "Calculate accuracy of prediction"
   ]
  },
  {
   "cell_type": "code",
   "execution_count": 23,
   "metadata": {},
   "outputs": [],
   "source": [
    "model.to('cpu')\n",
    "model = model.eval()"
   ]
  },
  {
   "cell_type": "code",
   "execution_count": 24,
   "metadata": {},
   "outputs": [],
   "source": [
    "with torch.no_grad():\n",
    "    y_hat = model(X_train_tensor)\n",
    "train_predicted = torch.max(y_hat, 1)[1]\n",
    "train_prob = y_hat"
   ]
  },
  {
   "cell_type": "code",
   "execution_count": 25,
   "metadata": {},
   "outputs": [
    {
     "data": {
      "text/plain": [
       "torch.Size([8978, 2])"
      ]
     },
     "execution_count": 25,
     "metadata": {},
     "output_type": "execute_result"
    }
   ],
   "source": [
    "train_prob.shape"
   ]
  },
  {
   "cell_type": "code",
   "execution_count": 26,
   "metadata": {},
   "outputs": [],
   "source": [
    "with torch.no_grad():\n",
    "    y_hat = model(X_test_tensor)\n",
    "test_predicted = torch.max(y_hat, 1)[1]\n",
    "test_prob = y_hat"
   ]
  },
  {
   "cell_type": "code",
   "execution_count": 27,
   "metadata": {},
   "outputs": [
    {
     "name": "stdout",
     "output_type": "stream",
     "text": [
      "The train accuracy was 0.881\n",
      "The test accuracy was 0.854\n",
      "\n",
      "\n",
      "The train auc was 0.854\n",
      "The test auc was 0.748\n"
     ]
    }
   ],
   "source": [
    "print(f\"The train accuracy was {accuracy_score(train_predicted, y_train_tensor):.3f}\")\n",
    "print(f\"The test accuracy was {accuracy_score(test_predicted, y_test_tensor):.3f}\")\n",
    "print(\"\\n\")\n",
    "print(f\"The train auc was {roc_auc_score( y_train_tensor, train_prob[:, 1]):.3f}\")\n",
    "print(f\"The test auc was {roc_auc_score( y_test_tensor, test_prob[:, 1]):.3f}\")"
   ]
  },
  {
   "cell_type": "code",
   "execution_count": 28,
   "metadata": {},
   "outputs": [
    {
     "data": {
      "text/plain": [
       "torch.Size([8978])"
      ]
     },
     "execution_count": 28,
     "metadata": {},
     "output_type": "execute_result"
    }
   ],
   "source": [
    "train_predicted.shape"
   ]
  },
  {
   "cell_type": "code",
   "execution_count": 29,
   "metadata": {},
   "outputs": [
    {
     "data": {
      "image/png": "[encoded data removed]",
      "text/plain": [
       "<Figure size 432x288 with 2 Axes>"
      ]
     },
     "metadata": {
      "needs_background": "light"
     },
     "output_type": "display_data"
    }
   ],
   "source": [
    "_ = ConfusionMatrixDisplay.from_predictions(test_predicted, y_test_tensor, display_labels=np.array([0,1]))"
   ]
  },
  {
   "cell_type": "code",
   "execution_count": 30,
   "metadata": {},
   "outputs": [],
   "source": [
    "df_external = pd.read_csv(file_path + 'external.csv')\n",
    "df_temporal = pd.read_csv(file_path + 'mimiciv_temporal_data_preprocess.csv')"
   ]
  },
  {
   "cell_type": "code",
   "execution_count": 31,
   "metadata": {},
   "outputs": [],
   "source": [
    "X_external = df_external.loc[:, tabular_cols]\n",
    "X_temp = df_temporal.loc[:, tabular_cols]\n",
    "\n",
    "y_external= df_external['death_hosp']\n",
    "y_temp = df_temporal['death_hosp']"
   ]
  },
  {
   "cell_type": "code",
   "execution_count": 32,
   "metadata": {},
   "outputs": [],
   "source": [
    "X_external_norm = ln.transform(X_external)\n",
    "X_temp_norm = ln.transform(X_temp)"
   ]
  },
  {
   "cell_type": "code",
   "execution_count": 33,
   "metadata": {},
   "outputs": [],
   "source": [
    "X_external_img = it.transform(X_external_norm)\n",
    "X_temp_img = it.transform(X_temp_norm)"
   ]
  },
  {
   "cell_type": "code",
   "execution_count": 34,
   "metadata": {},
   "outputs": [],
   "source": [
    "X_external_tensor = torch.stack([preprocess(img) for img in X_external_img]).float()\n",
    "y_external_tensor = torch.from_numpy(np.array(y_external))\n",
    "\n",
    "X_temp_tensor = torch.stack([preprocess(img) for img in X_temp_img]).float()\n",
    "y_temp_tensor = torch.from_numpy(np.array(y_temp))"
   ]
  },
  {
   "cell_type": "code",
   "execution_count": 35,
   "metadata": {},
   "outputs": [],
   "source": [
    "externalset = TensorDataset(X_external_tensor, y_external_tensor)\n",
    "externalloader = DataLoader(externalset, batch_size=batch_size, shuffle=False)\n",
    "\n",
    "tempset = TensorDataset(X_temp_tensor, y_temp_tensor)\n",
    "temploader = DataLoader(tempset, batch_size=batch_size, shuffle=False)"
   ]
  },
  {
   "cell_type": "code",
   "execution_count": 36,
   "metadata": {},
   "outputs": [],
   "source": [
    "with torch.no_grad():\n",
    "    y_hat = model(X_external_tensor)\n",
    "external_predicted = torch.max(y_hat, 1)[1]\n",
    "external_prob = y_hat\n",
    "\n",
    "with torch.no_grad():\n",
    "    y_hat = model(X_temp_tensor)\n",
    "temp_predicted = torch.max(y_hat, 1)[1]\n",
    "temp_prob = y_hat"
   ]
  },
  {
   "cell_type": "code",
   "execution_count": 37,
   "metadata": {},
   "outputs": [
    {
     "name": "stdout",
     "output_type": "stream",
     "text": [
      "The external accuracy was 0.849\n",
      "The temporal accuracy was 0.861\n",
      "\n",
      "\n",
      "The external auc was 0.671\n",
      "The temporal auc was 0.787\n"
     ]
    }
   ],
   "source": [
    "print(f\"The external accuracy was {accuracy_score(external_predicted, y_external_tensor):.3f}\")\n",
    "print(f\"The temporal accuracy was {accuracy_score(temp_predicted, y_temp_tensor):.3f}\")\n",
    "print(\"\\n\")\n",
    "print(f\"The external auc was {roc_auc_score( y_external_tensor, external_prob[:, 1]):.3f}\")\n",
    "print(f\"The temporal auc was {roc_auc_score( y_temp_tensor, temp_prob[:, 1]):.3f}\")"
   ]
  },
  {
   "cell_type": "code",
   "execution_count": null,
   "metadata": {},
   "outputs": [],
   "source": []
  }
 ],
 "metadata": {
  "kernelspec": {
   "display_name": "Python 3",
   "language": "python",
   "name": "python3"
  },
  "language_info": {
   "codemirror_mode": {
    "name": "ipython",
    "version": 3
   },
   "file_extension": ".py",
   "mimetype": "text/x-python",
   "name": "python",
   "nbconvert_exporter": "python",
   "pygments_lexer": "ipython3",
   "version": "3.7.4"
  }
 },
 "nbformat": 4,
 "nbformat_minor": 2
}
